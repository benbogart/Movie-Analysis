{
 "cells": [
  {
   "cell_type": "markdown",
   "metadata": {},
   "source": [
    "![Movie Image](images/film_reel.jpg)\n",
    "\n",
    "<span style=\"float:right\">Photo by <a href=\"https://unsplash.com/@dmjdenise?utm_source=unsplash&amp;utm_medium=referral&amp;utm_content=creditCopyText\">Denise Jans</a> on <a href=\"https://unsplash.com/s/photos/movie?utm_source=unsplash&amp;utm_medium=referral&amp;utm_content=creditCopyText\">Unsplash</a></span>"
   ]
  },
  {
   "cell_type": "markdown",
   "metadata": {
    "toc": true
   },
   "source": [
    "<h1>Table of Contents<span class=\"tocSkip\"></span></h1>\n",
    "<div class=\"toc\"><ul class=\"toc-item\"><li><span><a href=\"#Breaking-into-the-movie-industry\" data-toc-modified-id=\"Breaking-into-the-movie-industry-1\"><span class=\"toc-item-num\">1&nbsp;&nbsp;</span>Breaking into the movie industry</a></span><ul class=\"toc-item\"><li><span><a href=\"#Overview\" data-toc-modified-id=\"Overview-1.1\"><span class=\"toc-item-num\">1.1&nbsp;&nbsp;</span>Overview</a></span></li><li><span><a href=\"#Business-Problem\" data-toc-modified-id=\"Business-Problem-1.2\"><span class=\"toc-item-num\">1.2&nbsp;&nbsp;</span>Business Problem</a></span></li><li><span><a href=\"#Data\" data-toc-modified-id=\"Data-1.3\"><span class=\"toc-item-num\">1.3&nbsp;&nbsp;</span>Data</a></span></li></ul></li><li><span><a href=\"#Prepare-Data\" data-toc-modified-id=\"Prepare-Data-2\"><span class=\"toc-item-num\">2&nbsp;&nbsp;</span>Prepare Data</a></span><ul class=\"toc-item\"><li><span><a href=\"#Import-data-and-helper-functions\" data-toc-modified-id=\"Import-data-and-helper-functions-2.1\"><span class=\"toc-item-num\">2.1&nbsp;&nbsp;</span>Import data and helper functions</a></span></li><li><span><a href=\"#Clean-Data\" data-toc-modified-id=\"Clean-Data-2.2\"><span class=\"toc-item-num\">2.2&nbsp;&nbsp;</span>Clean Data</a></span><ul class=\"toc-item\"><li><span><a href=\"#Clean-the-movie-budget-dataframe.\" data-toc-modified-id=\"Clean-the-movie-budget-dataframe.-2.2.1\"><span class=\"toc-item-num\">2.2.1&nbsp;&nbsp;</span>Clean the movie budget dataframe.</a></span></li><li><span><a href=\"#Clean-up-imdb_title_principals\" data-toc-modified-id=\"Clean-up-imdb_title_principals-2.2.2\"><span class=\"toc-item-num\">2.2.2&nbsp;&nbsp;</span>Clean up imdb_title_principals</a></span></li><li><span><a href=\"#Clean-up-imdb_name_basics\" data-toc-modified-id=\"Clean-up-imdb_name_basics-2.2.3\"><span class=\"toc-item-num\">2.2.3&nbsp;&nbsp;</span>Clean up imdb_name_basics</a></span></li><li><span><a href=\"#Clean-up-imdb_title_basics\" data-toc-modified-id=\"Clean-up-imdb_title_basics-2.2.4\"><span class=\"toc-item-num\">2.2.4&nbsp;&nbsp;</span>Clean up imdb_title_basics</a></span></li></ul></li><li><span><a href=\"#Join-the-data\" data-toc-modified-id=\"Join-the-data-2.3\"><span class=\"toc-item-num\">2.3&nbsp;&nbsp;</span>Join the data</a></span><ul class=\"toc-item\"><li><span><a href=\"#Join-title_basics-and-movie_budget-as-df\" data-toc-modified-id=\"Join-title_basics-and-movie_budget-as-df-2.3.1\"><span class=\"toc-item-num\">2.3.1&nbsp;&nbsp;</span>Join title_basics and movie_budget as df</a></span></li><li><span><a href=\"#Join-df-with-title_principals-as-df\" data-toc-modified-id=\"Join-df-with-title_principals-as-df-2.3.2\"><span class=\"toc-item-num\">2.3.2&nbsp;&nbsp;</span>Join df with title_principals as df</a></span></li><li><span><a href=\"#Join-df-with-name_basics-as-df\" data-toc-modified-id=\"Join-df-with-name_basics-as-df-2.3.3\"><span class=\"toc-item-num\">2.3.3&nbsp;&nbsp;</span>Join df with name_basics as df</a></span></li></ul></li><li><span><a href=\"#Remove-Outliers\" data-toc-modified-id=\"Remove-Outliers-2.4\"><span class=\"toc-item-num\">2.4&nbsp;&nbsp;</span>Remove Outliers</a></span><ul class=\"toc-item\"><li><span><a href=\"#Overall-with-zcore\" data-toc-modified-id=\"Overall-with-zcore-2.4.1\"><span class=\"toc-item-num\">2.4.1&nbsp;&nbsp;</span>Overall with zcore</a></span></li><li><span><a href=\"#By-Genre-with-Q3-+-(1.5*IRQ)\" data-toc-modified-id=\"By-Genre-with-Q3-+-(1.5*IRQ)-2.4.2\"><span class=\"toc-item-num\">2.4.2&nbsp;&nbsp;</span>By Genre with Q3 + (1.5*IRQ)</a></span></li></ul></li></ul></li><li><span><a href=\"#Questions\" data-toc-modified-id=\"Questions-3\"><span class=\"toc-item-num\">3&nbsp;&nbsp;</span>Questions</a></span><ul class=\"toc-item\"><li><span><a href=\"#Q1:-Which-Genres-are-the-most-profitable?\" data-toc-modified-id=\"Q1:-Which-Genres-are-the-most-profitable?-3.1\"><span class=\"toc-item-num\">3.1&nbsp;&nbsp;</span>Q1: Which Genres are the most profitable?</a></span><ul class=\"toc-item\"><li><span><a href=\"#Conclusion\" data-toc-modified-id=\"Conclusion-3.1.1\"><span class=\"toc-item-num\">3.1.1&nbsp;&nbsp;</span>Conclusion</a></span></li></ul></li><li><span><a href=\"#Q2:-What-is-the-ideal-budget-for-the-film?\" data-toc-modified-id=\"Q2:-What-is-the-ideal-budget-for-the-film?-3.2\"><span class=\"toc-item-num\">3.2&nbsp;&nbsp;</span>Q2: What is the ideal budget for the film?</a></span><ul class=\"toc-item\"><li><span><a href=\"#Create-Budget-Class-Feature\" data-toc-modified-id=\"Create-Budget-Class-Feature-3.2.1\"><span class=\"toc-item-num\">3.2.1&nbsp;&nbsp;</span>Create Budget Class Feature</a></span></li><li><span><a href=\"#Plot-Budget-Class\" data-toc-modified-id=\"Plot-Budget-Class-3.2.2\"><span class=\"toc-item-num\">3.2.2&nbsp;&nbsp;</span>Plot Budget Class</a></span></li><li><span><a href=\"#Most-profitable-Genres-by-Budget-Class-Box-Plot\" data-toc-modified-id=\"Most-profitable-Genres-by-Budget-Class-Box-Plot-3.2.3\"><span class=\"toc-item-num\">3.2.3&nbsp;&nbsp;</span>Most profitable Genres by Budget Class Box Plot</a></span></li><li><span><a href=\"#Conclusion\" data-toc-modified-id=\"Conclusion-3.2.4\"><span class=\"toc-item-num\">3.2.4&nbsp;&nbsp;</span>Conclusion</a></span></li></ul></li><li><span><a href=\"#Q3-Who-are-the-most-profitable-people\" data-toc-modified-id=\"Q3-Who-are-the-most-profitable-people-3.3\"><span class=\"toc-item-num\">3.3&nbsp;&nbsp;</span>Q3 Who are the most profitable people</a></span><ul class=\"toc-item\"><li><span><a href=\"#Create-features\" data-toc-modified-id=\"Create-features-3.3.1\"><span class=\"toc-item-num\">3.3.1&nbsp;&nbsp;</span>Create features</a></span></li><li><span><a href=\"#Filter-our-Working-data\" data-toc-modified-id=\"Filter-our-Working-data-3.3.2\"><span class=\"toc-item-num\">3.3.2&nbsp;&nbsp;</span>Filter our Working data</a></span></li><li><span><a href=\"#Visualise-what-was-filtered\" data-toc-modified-id=\"Visualise-what-was-filtered-3.3.3\"><span class=\"toc-item-num\">3.3.3&nbsp;&nbsp;</span>Visualise what was filtered</a></span></li><li><span><a href=\"#Explore-the-data\" data-toc-modified-id=\"Explore-the-data-3.3.4\"><span class=\"toc-item-num\">3.3.4&nbsp;&nbsp;</span>Explore the data</a></span></li><li><span><a href=\"#Create-visualizations-for-various-movie-industry-roles\" data-toc-modified-id=\"Create-visualizations-for-various-movie-industry-roles-3.3.5\"><span class=\"toc-item-num\">3.3.5&nbsp;&nbsp;</span>Create visualizations for various movie industry roles</a></span></li></ul></li></ul></li><li><span><a href=\"#Evaluation\" data-toc-modified-id=\"Evaluation-4\"><span class=\"toc-item-num\">4&nbsp;&nbsp;</span>Evaluation</a></span></li><li><span><a href=\"#Conclusions\" data-toc-modified-id=\"Conclusions-5\"><span class=\"toc-item-num\">5&nbsp;&nbsp;</span>Conclusions</a></span><ul class=\"toc-item\"><li><span><a href=\"#What-could-be-improved\" data-toc-modified-id=\"What-could-be-improved-5.1\"><span class=\"toc-item-num\">5.1&nbsp;&nbsp;</span>What could be improved</a></span></li><li><span><a href=\"#The-next-steps\" data-toc-modified-id=\"The-next-steps-5.2\"><span class=\"toc-item-num\">5.2&nbsp;&nbsp;</span>The next steps</a></span></li></ul></li></ul></div>"
   ]
  },
  {
   "cell_type": "markdown",
   "metadata": {},
   "source": [
    "# Breaking into the movie industry\n",
    "Author: Ben Bogart"
   ]
  },
  {
   "cell_type": "markdown",
   "metadata": {},
   "source": [
    "## Overview\n",
    "This is a case study for Microsoft, which has decided to open a new movie studio.  Microsoft needs to make make key decisions about the initial steps of creating their first movie including setting a budget, choosing which genres to focus on, and choosing whom to work with.  The data provided comes from IMDB, Box Office Mojo, Roten Tomatoes, The Movie Database, and TheNumbers.com.  The methodology includes joining, filtering, and visualizing the data to illustrate trends primarily related to ROI. The results show that Microsoft should focus on Horror and/or Mystery, spend between $6M - $14.2M, and look to partner with a short list of producers, writers, and actors listed at the end of question 3. "
   ]
  },
  {
   "cell_type": "markdown",
   "metadata": {},
   "source": [
    "## Business Problem\n",
    "Microsoft has decided to open a movie studio.  At this point they are at the beginning of their journey to understand the movie industry. They need information to make high level decisions that will increase their likelihood of success.  Success is defined as a profitable investment that allows for the creation of future movies and a long term acquisition of industry experience.  Making an incorrect decision about budget or how to spend money could lead to failure which would be both embarrassing for the company and result in a loss of money.\n",
    "\n",
    "This problem led to the the following three high level questions, which were chosen as they represent actionable first steps for breaking into the movie industry.\n",
    "* Which genres yield the highest ROI\n",
    "* What budget range in those genres yields the highest ROI\n",
    "* Who should Microsoft reach out to in the movie industry for partnerships"
   ]
  },
  {
   "cell_type": "markdown",
   "metadata": {},
   "source": [
    "## Data\n",
    "\n",
    "The following Data was used for the first two questions\n",
    "* which genres produce the highest ROI?\n",
    "* What budget range in those genres yields the highest ROI\n",
    "\n",
    "The following tables are used from IMDB and TheNumbers.com:\n",
    "* tn_movie_budgets\n",
    "* imdb_title_principals\n",
    "* imdb_title_basics\n",
    "* imdb_name_basics\n",
    "\n",
    "`tn_movie_budgets` contains movie budgets and gross income figures by movie and year.\n",
    "`imdb_title_principals` contains keys for connection people to films and the role they held.\n",
    "`imdb_title_basics` contains title, release year, and genre.\n",
    "`imdb_name_basics` contains information about individuals.  We are just using their name.\n",
    "\n",
    "Because there is no key in common the tables have to be joined on release year and title, and errors in that process need to be evaluated.\n",
    "\n",
    "The data is stored in the data/zippedData directory of this repo.\n",
    "    \n",
    "Because this project is spread across more than one notebook, some of the code has been consolidated into the included data_helpers package."
   ]
  },
  {
   "cell_type": "markdown",
   "metadata": {},
   "source": [
    "# Prepare Data"
   ]
  },
  {
   "cell_type": "code",
   "execution_count": 1,
   "metadata": {},
   "outputs": [],
   "source": [
    "# import dependencies\n",
    "import datetime as dt\n",
    "import numpy as np\n",
    "import pandas as pd\n",
    "import data_helpers.data_functions as data_functions\n",
    "import matplotlib.pyplot as plt\n",
    "%matplotlib inline\n",
    "import seaborn as sns\n",
    "import matplotlib.ticker as mtick\n",
    "import matplotlib.patches as mpatches\n",
    "from matplotlib.lines import Line2D\n",
    "\n",
    "from scipy.stats import zscore\n",
    "\n",
    "sns.set_context('poster')\n"
   ]
  },
  {
   "cell_type": "markdown",
   "metadata": {},
   "source": [
    "## Import data and helper functions"
   ]
  },
  {
   "cell_type": "code",
   "execution_count": 2,
   "metadata": {},
   "outputs": [],
   "source": [
    "#import all of the available data\n",
    "from data_helpers.data import data \n",
    "import data_helpers.data_functions as data_functions"
   ]
  },
  {
   "cell_type": "markdown",
   "metadata": {},
   "source": [
    "## Clean Data\n",
    "### Clean the movie budget dataframe.\n",
    "The function clean clean_tn_movie_budgets takes in the raw dataframe and does th following:\n",
    "1. Converts the release_date column to datetime\n",
    "1. converts amounts to int\n",
    "1. Adds a release _year column for joining\n",
    "1. removes rows where production budgets or worldwide gross == 0\n",
    "1. Creates features for ROI and ROI_zscore"
   ]
  },
  {
   "cell_type": "code",
   "execution_count": 3,
   "metadata": {},
   "outputs": [],
   "source": [
    "movie_budgets = data_functions.clean_tn_movie_budgets(data['tn_movie_budgets'])"
   ]
  },
  {
   "cell_type": "code",
   "execution_count": 4,
   "metadata": {},
   "outputs": [
    {
     "data": {
      "text/html": [
       "<div>\n",
       "<style scoped>\n",
       "    .dataframe tbody tr th:only-of-type {\n",
       "        vertical-align: middle;\n",
       "    }\n",
       "\n",
       "    .dataframe tbody tr th {\n",
       "        vertical-align: top;\n",
       "    }\n",
       "\n",
       "    .dataframe thead th {\n",
       "        text-align: right;\n",
       "    }\n",
       "</style>\n",
       "<table border=\"1\" class=\"dataframe\">\n",
       "  <thead>\n",
       "    <tr style=\"text-align: right;\">\n",
       "      <th></th>\n",
       "      <th>release_date</th>\n",
       "      <th>movie</th>\n",
       "      <th>production_budget</th>\n",
       "      <th>domestic_gross</th>\n",
       "      <th>worldwide_gross</th>\n",
       "      <th>release_year</th>\n",
       "      <th>ROI</th>\n",
       "    </tr>\n",
       "    <tr>\n",
       "      <th>id</th>\n",
       "      <th></th>\n",
       "      <th></th>\n",
       "      <th></th>\n",
       "      <th></th>\n",
       "      <th></th>\n",
       "      <th></th>\n",
       "      <th></th>\n",
       "    </tr>\n",
       "  </thead>\n",
       "  <tbody>\n",
       "    <tr>\n",
       "      <th>1</th>\n",
       "      <td>2009-12-18</td>\n",
       "      <td>Avatar</td>\n",
       "      <td>425000000</td>\n",
       "      <td>760507625</td>\n",
       "      <td>2776345279</td>\n",
       "      <td>2009</td>\n",
       "      <td>553.257713</td>\n",
       "    </tr>\n",
       "    <tr>\n",
       "      <th>2</th>\n",
       "      <td>2011-05-20</td>\n",
       "      <td>Pirates of the Caribbean: On Stranger Tides</td>\n",
       "      <td>410600000</td>\n",
       "      <td>241063875</td>\n",
       "      <td>1045663875</td>\n",
       "      <td>2011</td>\n",
       "      <td>154.667286</td>\n",
       "    </tr>\n",
       "    <tr>\n",
       "      <th>3</th>\n",
       "      <td>2019-06-07</td>\n",
       "      <td>Dark Phoenix</td>\n",
       "      <td>350000000</td>\n",
       "      <td>42762350</td>\n",
       "      <td>149762350</td>\n",
       "      <td>2019</td>\n",
       "      <td>-57.210757</td>\n",
       "    </tr>\n",
       "    <tr>\n",
       "      <th>4</th>\n",
       "      <td>2015-05-01</td>\n",
       "      <td>Avengers: Age of Ultron</td>\n",
       "      <td>330600000</td>\n",
       "      <td>459005868</td>\n",
       "      <td>1403013963</td>\n",
       "      <td>2015</td>\n",
       "      <td>324.384139</td>\n",
       "    </tr>\n",
       "    <tr>\n",
       "      <th>5</th>\n",
       "      <td>2017-12-15</td>\n",
       "      <td>Star Wars Ep. VIII: The Last Jedi</td>\n",
       "      <td>317000000</td>\n",
       "      <td>620181382</td>\n",
       "      <td>1316721747</td>\n",
       "      <td>2017</td>\n",
       "      <td>315.369636</td>\n",
       "    </tr>\n",
       "  </tbody>\n",
       "</table>\n",
       "</div>"
      ],
      "text/plain": [
       "   release_date                                        movie  \\\n",
       "id                                                             \n",
       "1    2009-12-18                                       Avatar   \n",
       "2    2011-05-20  Pirates of the Caribbean: On Stranger Tides   \n",
       "3    2019-06-07                                 Dark Phoenix   \n",
       "4    2015-05-01                      Avengers: Age of Ultron   \n",
       "5    2017-12-15            Star Wars Ep. VIII: The Last Jedi   \n",
       "\n",
       "    production_budget  domestic_gross  worldwide_gross  release_year  \\\n",
       "id                                                                     \n",
       "1           425000000       760507625       2776345279          2009   \n",
       "2           410600000       241063875       1045663875          2011   \n",
       "3           350000000        42762350        149762350          2019   \n",
       "4           330600000       459005868       1403013963          2015   \n",
       "5           317000000       620181382       1316721747          2017   \n",
       "\n",
       "           ROI  \n",
       "id              \n",
       "1   553.257713  \n",
       "2   154.667286  \n",
       "3   -57.210757  \n",
       "4   324.384139  \n",
       "5   315.369636  "
      ]
     },
     "execution_count": 4,
     "metadata": {},
     "output_type": "execute_result"
    }
   ],
   "source": [
    "movie_budgets.head()"
   ]
  },
  {
   "cell_type": "code",
   "execution_count": 5,
   "metadata": {},
   "outputs": [
    {
     "name": "stdout",
     "output_type": "stream",
     "text": [
      "<class 'pandas.core.frame.DataFrame'>\n",
      "Int64Index: 5415 entries, 1 to 82\n",
      "Data columns (total 7 columns):\n",
      " #   Column             Non-Null Count  Dtype         \n",
      "---  ------             --------------  -----         \n",
      " 0   release_date       5415 non-null   datetime64[ns]\n",
      " 1   movie              5415 non-null   object        \n",
      " 2   production_budget  5415 non-null   int64         \n",
      " 3   domestic_gross     5415 non-null   int64         \n",
      " 4   worldwide_gross    5415 non-null   int64         \n",
      " 5   release_year       5415 non-null   int64         \n",
      " 6   ROI                5415 non-null   float64       \n",
      "dtypes: datetime64[ns](1), float64(1), int64(4), object(1)\n",
      "memory usage: 338.4+ KB\n"
     ]
    }
   ],
   "source": [
    "movie_budgets.info()"
   ]
  },
  {
   "cell_type": "markdown",
   "metadata": {},
   "source": [
    "### Clean up imdb_title_principals"
   ]
  },
  {
   "cell_type": "code",
   "execution_count": 6,
   "metadata": {},
   "outputs": [
    {
     "data": {
      "text/html": [
       "<div>\n",
       "<style scoped>\n",
       "    .dataframe tbody tr th:only-of-type {\n",
       "        vertical-align: middle;\n",
       "    }\n",
       "\n",
       "    .dataframe tbody tr th {\n",
       "        vertical-align: top;\n",
       "    }\n",
       "\n",
       "    .dataframe thead th {\n",
       "        text-align: right;\n",
       "    }\n",
       "</style>\n",
       "<table border=\"1\" class=\"dataframe\">\n",
       "  <thead>\n",
       "    <tr style=\"text-align: right;\">\n",
       "      <th></th>\n",
       "      <th>ordering</th>\n",
       "      <th>nconst</th>\n",
       "      <th>category</th>\n",
       "      <th>job</th>\n",
       "      <th>characters</th>\n",
       "    </tr>\n",
       "    <tr>\n",
       "      <th>tconst</th>\n",
       "      <th></th>\n",
       "      <th></th>\n",
       "      <th></th>\n",
       "      <th></th>\n",
       "      <th></th>\n",
       "    </tr>\n",
       "  </thead>\n",
       "  <tbody>\n",
       "    <tr>\n",
       "      <th>tt0111414</th>\n",
       "      <td>1</td>\n",
       "      <td>nm0246005</td>\n",
       "      <td>actor</td>\n",
       "      <td>NaN</td>\n",
       "      <td>[\"The Man\"]</td>\n",
       "    </tr>\n",
       "    <tr>\n",
       "      <th>tt0111414</th>\n",
       "      <td>2</td>\n",
       "      <td>nm0398271</td>\n",
       "      <td>director</td>\n",
       "      <td>NaN</td>\n",
       "      <td>NaN</td>\n",
       "    </tr>\n",
       "    <tr>\n",
       "      <th>tt0111414</th>\n",
       "      <td>3</td>\n",
       "      <td>nm3739909</td>\n",
       "      <td>producer</td>\n",
       "      <td>producer</td>\n",
       "      <td>NaN</td>\n",
       "    </tr>\n",
       "    <tr>\n",
       "      <th>tt0323808</th>\n",
       "      <td>10</td>\n",
       "      <td>nm0059247</td>\n",
       "      <td>editor</td>\n",
       "      <td>NaN</td>\n",
       "      <td>NaN</td>\n",
       "    </tr>\n",
       "    <tr>\n",
       "      <th>tt0323808</th>\n",
       "      <td>1</td>\n",
       "      <td>nm3579312</td>\n",
       "      <td>actress</td>\n",
       "      <td>NaN</td>\n",
       "      <td>[\"Beth Boothby\"]</td>\n",
       "    </tr>\n",
       "  </tbody>\n",
       "</table>\n",
       "</div>"
      ],
      "text/plain": [
       "           ordering     nconst  category       job        characters\n",
       "tconst                                                              \n",
       "tt0111414         1  nm0246005     actor       NaN       [\"The Man\"]\n",
       "tt0111414         2  nm0398271  director       NaN               NaN\n",
       "tt0111414         3  nm3739909  producer  producer               NaN\n",
       "tt0323808        10  nm0059247    editor       NaN               NaN\n",
       "tt0323808         1  nm3579312   actress       NaN  [\"Beth Boothby\"]"
      ]
     },
     "execution_count": 6,
     "metadata": {},
     "output_type": "execute_result"
    }
   ],
   "source": [
    "#get title_principals from our data dict\n",
    "title_principals = data['imdb_title_principals'].copy()\n",
    "title_principals.head()"
   ]
  },
  {
   "cell_type": "code",
   "execution_count": 7,
   "metadata": {},
   "outputs": [
    {
     "data": {
      "text/html": [
       "<div>\n",
       "<style scoped>\n",
       "    .dataframe tbody tr th:only-of-type {\n",
       "        vertical-align: middle;\n",
       "    }\n",
       "\n",
       "    .dataframe tbody tr th {\n",
       "        vertical-align: top;\n",
       "    }\n",
       "\n",
       "    .dataframe thead th {\n",
       "        text-align: right;\n",
       "    }\n",
       "</style>\n",
       "<table border=\"1\" class=\"dataframe\">\n",
       "  <thead>\n",
       "    <tr style=\"text-align: right;\">\n",
       "      <th></th>\n",
       "      <th>nconst</th>\n",
       "      <th>category</th>\n",
       "    </tr>\n",
       "    <tr>\n",
       "      <th>tconst</th>\n",
       "      <th></th>\n",
       "      <th></th>\n",
       "    </tr>\n",
       "  </thead>\n",
       "  <tbody>\n",
       "    <tr>\n",
       "      <th>tt0111414</th>\n",
       "      <td>nm0246005</td>\n",
       "      <td>actor</td>\n",
       "    </tr>\n",
       "    <tr>\n",
       "      <th>tt0111414</th>\n",
       "      <td>nm0398271</td>\n",
       "      <td>director</td>\n",
       "    </tr>\n",
       "    <tr>\n",
       "      <th>tt0111414</th>\n",
       "      <td>nm3739909</td>\n",
       "      <td>producer</td>\n",
       "    </tr>\n",
       "    <tr>\n",
       "      <th>tt0323808</th>\n",
       "      <td>nm0059247</td>\n",
       "      <td>editor</td>\n",
       "    </tr>\n",
       "    <tr>\n",
       "      <th>tt0323808</th>\n",
       "      <td>nm3579312</td>\n",
       "      <td>actress</td>\n",
       "    </tr>\n",
       "  </tbody>\n",
       "</table>\n",
       "</div>"
      ],
      "text/plain": [
       "              nconst  category\n",
       "tconst                        \n",
       "tt0111414  nm0246005     actor\n",
       "tt0111414  nm0398271  director\n",
       "tt0111414  nm3739909  producer\n",
       "tt0323808  nm0059247    editor\n",
       "tt0323808  nm3579312   actress"
      ]
     },
     "execution_count": 7,
     "metadata": {},
     "output_type": "execute_result"
    }
   ],
   "source": [
    "# drop columns we don't need \n",
    "title_principals = title_principals.drop(['ordering', 'job', 'characters'], axis = 1)\n",
    "title_principals.head()"
   ]
  },
  {
   "cell_type": "code",
   "execution_count": 8,
   "metadata": {},
   "outputs": [
    {
     "data": {
      "text/plain": [
       "nconst      0\n",
       "category    0\n",
       "dtype: int64"
      ]
     },
     "execution_count": 8,
     "metadata": {},
     "output_type": "execute_result"
    }
   ],
   "source": [
    "#check for nan\n",
    "title_principals.isna().sum()"
   ]
  },
  {
   "cell_type": "code",
   "execution_count": 9,
   "metadata": {},
   "outputs": [
    {
     "data": {
      "text/plain": [
       "actor                  256718\n",
       "director               146393\n",
       "actress                146208\n",
       "producer               113724\n",
       "cinematographer         80091\n",
       "composer                77063\n",
       "writer                  74357\n",
       "self                    65424\n",
       "editor                  55512\n",
       "production_designer      9373\n",
       "archive_footage          3307\n",
       "archive_sound              16\n",
       "Name: category, dtype: int64"
      ]
     },
     "execution_count": 9,
     "metadata": {},
     "output_type": "execute_result"
    }
   ],
   "source": [
    "title_principals.category.value_counts()"
   ]
  },
  {
   "cell_type": "markdown",
   "metadata": {},
   "source": [
    "Combine Actor and Actress because its the same job. (and who says Actress anymore??)"
   ]
  },
  {
   "cell_type": "code",
   "execution_count": 10,
   "metadata": {},
   "outputs": [
    {
     "data": {
      "text/html": [
       "<div>\n",
       "<style scoped>\n",
       "    .dataframe tbody tr th:only-of-type {\n",
       "        vertical-align: middle;\n",
       "    }\n",
       "\n",
       "    .dataframe tbody tr th {\n",
       "        vertical-align: top;\n",
       "    }\n",
       "\n",
       "    .dataframe thead th {\n",
       "        text-align: right;\n",
       "    }\n",
       "</style>\n",
       "<table border=\"1\" class=\"dataframe\">\n",
       "  <thead>\n",
       "    <tr style=\"text-align: right;\">\n",
       "      <th></th>\n",
       "      <th>nconst</th>\n",
       "      <th>category</th>\n",
       "    </tr>\n",
       "    <tr>\n",
       "      <th>tconst</th>\n",
       "      <th></th>\n",
       "      <th></th>\n",
       "    </tr>\n",
       "  </thead>\n",
       "  <tbody>\n",
       "    <tr>\n",
       "      <th>tt0111414</th>\n",
       "      <td>nm0246005</td>\n",
       "      <td>actor</td>\n",
       "    </tr>\n",
       "    <tr>\n",
       "      <th>tt0111414</th>\n",
       "      <td>nm0398271</td>\n",
       "      <td>director</td>\n",
       "    </tr>\n",
       "    <tr>\n",
       "      <th>tt0111414</th>\n",
       "      <td>nm3739909</td>\n",
       "      <td>producer</td>\n",
       "    </tr>\n",
       "    <tr>\n",
       "      <th>tt0323808</th>\n",
       "      <td>nm0059247</td>\n",
       "      <td>editor</td>\n",
       "    </tr>\n",
       "    <tr>\n",
       "      <th>tt0323808</th>\n",
       "      <td>nm3579312</td>\n",
       "      <td>actor</td>\n",
       "    </tr>\n",
       "  </tbody>\n",
       "</table>\n",
       "</div>"
      ],
      "text/plain": [
       "              nconst  category\n",
       "tconst                        \n",
       "tt0111414  nm0246005     actor\n",
       "tt0111414  nm0398271  director\n",
       "tt0111414  nm3739909  producer\n",
       "tt0323808  nm0059247    editor\n",
       "tt0323808  nm3579312     actor"
      ]
     },
     "execution_count": 10,
     "metadata": {},
     "output_type": "execute_result"
    }
   ],
   "source": [
    "title_principals['category'] = title_principals.category.str.replace('actress', 'actor')\n",
    "title_principals.head()"
   ]
  },
  {
   "cell_type": "markdown",
   "metadata": {},
   "source": [
    "### Clean up imdb_name_basics"
   ]
  },
  {
   "cell_type": "code",
   "execution_count": 11,
   "metadata": {},
   "outputs": [
    {
     "data": {
      "text/html": [
       "<div>\n",
       "<style scoped>\n",
       "    .dataframe tbody tr th:only-of-type {\n",
       "        vertical-align: middle;\n",
       "    }\n",
       "\n",
       "    .dataframe tbody tr th {\n",
       "        vertical-align: top;\n",
       "    }\n",
       "\n",
       "    .dataframe thead th {\n",
       "        text-align: right;\n",
       "    }\n",
       "</style>\n",
       "<table border=\"1\" class=\"dataframe\">\n",
       "  <thead>\n",
       "    <tr style=\"text-align: right;\">\n",
       "      <th></th>\n",
       "      <th>primary_name</th>\n",
       "      <th>birth_year</th>\n",
       "      <th>death_year</th>\n",
       "      <th>primary_profession</th>\n",
       "      <th>known_for_titles</th>\n",
       "    </tr>\n",
       "    <tr>\n",
       "      <th>nconst</th>\n",
       "      <th></th>\n",
       "      <th></th>\n",
       "      <th></th>\n",
       "      <th></th>\n",
       "      <th></th>\n",
       "    </tr>\n",
       "  </thead>\n",
       "  <tbody>\n",
       "    <tr>\n",
       "      <th>nm0061671</th>\n",
       "      <td>Mary Ellen Bauder</td>\n",
       "      <td>NaN</td>\n",
       "      <td>NaN</td>\n",
       "      <td>miscellaneous,production_manager,producer</td>\n",
       "      <td>tt0837562,tt2398241,tt0844471,tt0118553</td>\n",
       "    </tr>\n",
       "    <tr>\n",
       "      <th>nm0061865</th>\n",
       "      <td>Joseph Bauer</td>\n",
       "      <td>NaN</td>\n",
       "      <td>NaN</td>\n",
       "      <td>composer,music_department,sound_department</td>\n",
       "      <td>tt0896534,tt6791238,tt0287072,tt1682940</td>\n",
       "    </tr>\n",
       "    <tr>\n",
       "      <th>nm0062070</th>\n",
       "      <td>Bruce Baum</td>\n",
       "      <td>NaN</td>\n",
       "      <td>NaN</td>\n",
       "      <td>miscellaneous,actor,writer</td>\n",
       "      <td>tt1470654,tt0363631,tt0104030,tt0102898</td>\n",
       "    </tr>\n",
       "    <tr>\n",
       "      <th>nm0062195</th>\n",
       "      <td>Axel Baumann</td>\n",
       "      <td>NaN</td>\n",
       "      <td>NaN</td>\n",
       "      <td>camera_department,cinematographer,art_department</td>\n",
       "      <td>tt0114371,tt2004304,tt1618448,tt1224387</td>\n",
       "    </tr>\n",
       "    <tr>\n",
       "      <th>nm0062798</th>\n",
       "      <td>Pete Baxter</td>\n",
       "      <td>NaN</td>\n",
       "      <td>NaN</td>\n",
       "      <td>production_designer,art_department,set_decorator</td>\n",
       "      <td>tt0452644,tt0452692,tt3458030,tt2178256</td>\n",
       "    </tr>\n",
       "  </tbody>\n",
       "</table>\n",
       "</div>"
      ],
      "text/plain": [
       "                primary_name  birth_year  death_year  \\\n",
       "nconst                                                 \n",
       "nm0061671  Mary Ellen Bauder         NaN         NaN   \n",
       "nm0061865       Joseph Bauer         NaN         NaN   \n",
       "nm0062070         Bruce Baum         NaN         NaN   \n",
       "nm0062195       Axel Baumann         NaN         NaN   \n",
       "nm0062798        Pete Baxter         NaN         NaN   \n",
       "\n",
       "                                         primary_profession  \\\n",
       "nconst                                                        \n",
       "nm0061671         miscellaneous,production_manager,producer   \n",
       "nm0061865        composer,music_department,sound_department   \n",
       "nm0062070                        miscellaneous,actor,writer   \n",
       "nm0062195  camera_department,cinematographer,art_department   \n",
       "nm0062798  production_designer,art_department,set_decorator   \n",
       "\n",
       "                                  known_for_titles  \n",
       "nconst                                              \n",
       "nm0061671  tt0837562,tt2398241,tt0844471,tt0118553  \n",
       "nm0061865  tt0896534,tt6791238,tt0287072,tt1682940  \n",
       "nm0062070  tt1470654,tt0363631,tt0104030,tt0102898  \n",
       "nm0062195  tt0114371,tt2004304,tt1618448,tt1224387  \n",
       "nm0062798  tt0452644,tt0452692,tt3458030,tt2178256  "
      ]
     },
     "execution_count": 11,
     "metadata": {},
     "output_type": "execute_result"
    }
   ],
   "source": [
    "#get name_basics from our data\n",
    "name_basics = data['imdb_name_basics'].copy()\n",
    "name_basics.head()"
   ]
  },
  {
   "cell_type": "markdown",
   "metadata": {},
   "source": [
    "Most of this data is truncated.  We have more complete data elsewhre.  For this we only need the key and the person's name."
   ]
  },
  {
   "cell_type": "code",
   "execution_count": 12,
   "metadata": {},
   "outputs": [
    {
     "data": {
      "text/plain": [
       "nconst\n",
       "nm0061671    Mary Ellen Bauder\n",
       "nm0061865         Joseph Bauer\n",
       "nm0062070           Bruce Baum\n",
       "nm0062195         Axel Baumann\n",
       "nm0062798          Pete Baxter\n",
       "Name: primary_name, dtype: object"
      ]
     },
     "execution_count": 12,
     "metadata": {},
     "output_type": "execute_result"
    }
   ],
   "source": [
    "# We only need primary_name.\n",
    "name_basics = name_basics['primary_name']\n",
    "name_basics.head()"
   ]
  },
  {
   "cell_type": "markdown",
   "metadata": {},
   "source": [
    "### Clean up imdb_title_basics"
   ]
  },
  {
   "cell_type": "code",
   "execution_count": 13,
   "metadata": {},
   "outputs": [
    {
     "data": {
      "text/html": [
       "<div>\n",
       "<style scoped>\n",
       "    .dataframe tbody tr th:only-of-type {\n",
       "        vertical-align: middle;\n",
       "    }\n",
       "\n",
       "    .dataframe tbody tr th {\n",
       "        vertical-align: top;\n",
       "    }\n",
       "\n",
       "    .dataframe thead th {\n",
       "        text-align: right;\n",
       "    }\n",
       "</style>\n",
       "<table border=\"1\" class=\"dataframe\">\n",
       "  <thead>\n",
       "    <tr style=\"text-align: right;\">\n",
       "      <th></th>\n",
       "      <th>primary_title</th>\n",
       "      <th>original_title</th>\n",
       "      <th>start_year</th>\n",
       "      <th>runtime_minutes</th>\n",
       "      <th>genres</th>\n",
       "    </tr>\n",
       "    <tr>\n",
       "      <th>tconst</th>\n",
       "      <th></th>\n",
       "      <th></th>\n",
       "      <th></th>\n",
       "      <th></th>\n",
       "      <th></th>\n",
       "    </tr>\n",
       "  </thead>\n",
       "  <tbody>\n",
       "    <tr>\n",
       "      <th>tt0063540</th>\n",
       "      <td>Sunghursh</td>\n",
       "      <td>Sunghursh</td>\n",
       "      <td>2013</td>\n",
       "      <td>175.0</td>\n",
       "      <td>Action,Crime,Drama</td>\n",
       "    </tr>\n",
       "    <tr>\n",
       "      <th>tt0066787</th>\n",
       "      <td>One Day Before the Rainy Season</td>\n",
       "      <td>Ashad Ka Ek Din</td>\n",
       "      <td>2019</td>\n",
       "      <td>114.0</td>\n",
       "      <td>Biography,Drama</td>\n",
       "    </tr>\n",
       "    <tr>\n",
       "      <th>tt0069049</th>\n",
       "      <td>The Other Side of the Wind</td>\n",
       "      <td>The Other Side of the Wind</td>\n",
       "      <td>2018</td>\n",
       "      <td>122.0</td>\n",
       "      <td>Drama</td>\n",
       "    </tr>\n",
       "    <tr>\n",
       "      <th>tt0069204</th>\n",
       "      <td>Sabse Bada Sukh</td>\n",
       "      <td>Sabse Bada Sukh</td>\n",
       "      <td>2018</td>\n",
       "      <td>NaN</td>\n",
       "      <td>Comedy,Drama</td>\n",
       "    </tr>\n",
       "    <tr>\n",
       "      <th>tt0100275</th>\n",
       "      <td>The Wandering Soap Opera</td>\n",
       "      <td>La Telenovela Errante</td>\n",
       "      <td>2017</td>\n",
       "      <td>80.0</td>\n",
       "      <td>Comedy,Drama,Fantasy</td>\n",
       "    </tr>\n",
       "  </tbody>\n",
       "</table>\n",
       "</div>"
      ],
      "text/plain": [
       "                             primary_title              original_title  \\\n",
       "tconst                                                                   \n",
       "tt0063540                        Sunghursh                   Sunghursh   \n",
       "tt0066787  One Day Before the Rainy Season             Ashad Ka Ek Din   \n",
       "tt0069049       The Other Side of the Wind  The Other Side of the Wind   \n",
       "tt0069204                  Sabse Bada Sukh             Sabse Bada Sukh   \n",
       "tt0100275         The Wandering Soap Opera       La Telenovela Errante   \n",
       "\n",
       "           start_year  runtime_minutes                genres  \n",
       "tconst                                                        \n",
       "tt0063540        2013            175.0    Action,Crime,Drama  \n",
       "tt0066787        2019            114.0       Biography,Drama  \n",
       "tt0069049        2018            122.0                 Drama  \n",
       "tt0069204        2018              NaN          Comedy,Drama  \n",
       "tt0100275        2017             80.0  Comedy,Drama,Fantasy  "
      ]
     },
     "execution_count": 13,
     "metadata": {},
     "output_type": "execute_result"
    }
   ],
   "source": [
    "#get title_basics from our data dict\n",
    "title_basics = data['imdb_title_basics'] #.copy()\n",
    "title_basics.head()"
   ]
  },
  {
   "cell_type": "code",
   "execution_count": 14,
   "metadata": {},
   "outputs": [],
   "source": [
    "# Drop original_title and runtime_minutes which we don't need for this question\n",
    "title_basics = title_basics.drop(['original_title', 'runtime_minutes'], axis = 1)"
   ]
  },
  {
   "cell_type": "markdown",
   "metadata": {},
   "source": [
    "The genres are listed as a comma separated list.  We need to remove movies with no genre listed and convert the comma separated strings to lists."
   ]
  },
  {
   "cell_type": "code",
   "execution_count": 15,
   "metadata": {
    "scrolled": true
   },
   "outputs": [
    {
     "data": {
      "text/html": [
       "<div>\n",
       "<style scoped>\n",
       "    .dataframe tbody tr th:only-of-type {\n",
       "        vertical-align: middle;\n",
       "    }\n",
       "\n",
       "    .dataframe tbody tr th {\n",
       "        vertical-align: top;\n",
       "    }\n",
       "\n",
       "    .dataframe thead th {\n",
       "        text-align: right;\n",
       "    }\n",
       "</style>\n",
       "<table border=\"1\" class=\"dataframe\">\n",
       "  <thead>\n",
       "    <tr style=\"text-align: right;\">\n",
       "      <th></th>\n",
       "      <th>primary_title</th>\n",
       "      <th>start_year</th>\n",
       "      <th>genres</th>\n",
       "    </tr>\n",
       "    <tr>\n",
       "      <th>tconst</th>\n",
       "      <th></th>\n",
       "      <th></th>\n",
       "      <th></th>\n",
       "    </tr>\n",
       "  </thead>\n",
       "  <tbody>\n",
       "    <tr>\n",
       "      <th>tt0063540</th>\n",
       "      <td>Sunghursh</td>\n",
       "      <td>2013</td>\n",
       "      <td>[Action, Crime, Drama]</td>\n",
       "    </tr>\n",
       "    <tr>\n",
       "      <th>tt0066787</th>\n",
       "      <td>One Day Before the Rainy Season</td>\n",
       "      <td>2019</td>\n",
       "      <td>[Biography, Drama]</td>\n",
       "    </tr>\n",
       "    <tr>\n",
       "      <th>tt0069049</th>\n",
       "      <td>The Other Side of the Wind</td>\n",
       "      <td>2018</td>\n",
       "      <td>[Drama]</td>\n",
       "    </tr>\n",
       "    <tr>\n",
       "      <th>tt0069204</th>\n",
       "      <td>Sabse Bada Sukh</td>\n",
       "      <td>2018</td>\n",
       "      <td>[Comedy, Drama]</td>\n",
       "    </tr>\n",
       "    <tr>\n",
       "      <th>tt0100275</th>\n",
       "      <td>The Wandering Soap Opera</td>\n",
       "      <td>2017</td>\n",
       "      <td>[Comedy, Drama, Fantasy]</td>\n",
       "    </tr>\n",
       "  </tbody>\n",
       "</table>\n",
       "</div>"
      ],
      "text/plain": [
       "                             primary_title  start_year  \\\n",
       "tconst                                                   \n",
       "tt0063540                        Sunghursh        2013   \n",
       "tt0066787  One Day Before the Rainy Season        2019   \n",
       "tt0069049       The Other Side of the Wind        2018   \n",
       "tt0069204                  Sabse Bada Sukh        2018   \n",
       "tt0100275         The Wandering Soap Opera        2017   \n",
       "\n",
       "                             genres  \n",
       "tconst                               \n",
       "tt0063540    [Action, Crime, Drama]  \n",
       "tt0066787        [Biography, Drama]  \n",
       "tt0069049                   [Drama]  \n",
       "tt0069204           [Comedy, Drama]  \n",
       "tt0100275  [Comedy, Drama, Fantasy]  "
      ]
     },
     "execution_count": 15,
     "metadata": {},
     "output_type": "execute_result"
    }
   ],
   "source": [
    "#drop missing genres and convert remaining to list\n",
    "title_basics = title_basics.dropna(subset=['genres'])\n",
    "title_basics['genres'] = title_basics['genres'].map(lambda x: x.split(','))\n",
    "\n",
    "title_basics.head()"
   ]
  },
  {
   "cell_type": "markdown",
   "metadata": {},
   "source": [
    "## Join the data"
   ]
  },
  {
   "cell_type": "markdown",
   "metadata": {},
   "source": [
    "### Join title_basics and movie_budget as df\n",
    "We will start by joining the title_basics and movie_budget so we can deal with any duplicates created by thay join right away.\n",
    "\n",
    "We will use merge to combine title_basics with movie_budgets using a right join on both release year, and movie title because we don't have a key in common.  Because merge reindexes, we reset the index to keep tconst in our table."
   ]
  },
  {
   "cell_type": "code",
   "execution_count": 16,
   "metadata": {},
   "outputs": [
    {
     "data": {
      "text/html": [
       "<div>\n",
       "<style scoped>\n",
       "    .dataframe tbody tr th:only-of-type {\n",
       "        vertical-align: middle;\n",
       "    }\n",
       "\n",
       "    .dataframe tbody tr th {\n",
       "        vertical-align: top;\n",
       "    }\n",
       "\n",
       "    .dataframe thead th {\n",
       "        text-align: right;\n",
       "    }\n",
       "</style>\n",
       "<table border=\"1\" class=\"dataframe\">\n",
       "  <thead>\n",
       "    <tr style=\"text-align: right;\">\n",
       "      <th></th>\n",
       "      <th>genres</th>\n",
       "      <th>release_date</th>\n",
       "      <th>movie</th>\n",
       "      <th>production_budget</th>\n",
       "      <th>domestic_gross</th>\n",
       "      <th>worldwide_gross</th>\n",
       "      <th>release_year</th>\n",
       "      <th>ROI</th>\n",
       "    </tr>\n",
       "    <tr>\n",
       "      <th>tconst</th>\n",
       "      <th></th>\n",
       "      <th></th>\n",
       "      <th></th>\n",
       "      <th></th>\n",
       "      <th></th>\n",
       "      <th></th>\n",
       "      <th></th>\n",
       "      <th></th>\n",
       "    </tr>\n",
       "  </thead>\n",
       "  <tbody>\n",
       "    <tr>\n",
       "      <th>tt0249516</th>\n",
       "      <td>[Action, Animation, Comedy]</td>\n",
       "      <td>2012-12-31</td>\n",
       "      <td>Foodfight!</td>\n",
       "      <td>45000000</td>\n",
       "      <td>0</td>\n",
       "      <td>73706</td>\n",
       "      <td>2012</td>\n",
       "      <td>-99.836209</td>\n",
       "    </tr>\n",
       "    <tr>\n",
       "      <th>tt0359950</th>\n",
       "      <td>[Adventure, Comedy, Drama]</td>\n",
       "      <td>2013-12-25</td>\n",
       "      <td>The Secret Life of Walter Mitty</td>\n",
       "      <td>91000000</td>\n",
       "      <td>58236838</td>\n",
       "      <td>187861183</td>\n",
       "      <td>2013</td>\n",
       "      <td>106.440860</td>\n",
       "    </tr>\n",
       "    <tr>\n",
       "      <th>tt0365907</th>\n",
       "      <td>[Action, Crime, Drama]</td>\n",
       "      <td>2014-09-19</td>\n",
       "      <td>A Walk Among the Tombstones</td>\n",
       "      <td>28000000</td>\n",
       "      <td>26017685</td>\n",
       "      <td>62108587</td>\n",
       "      <td>2014</td>\n",
       "      <td>121.816382</td>\n",
       "    </tr>\n",
       "    <tr>\n",
       "      <th>tt0369610</th>\n",
       "      <td>[Action, Adventure, Sci-Fi]</td>\n",
       "      <td>2015-06-12</td>\n",
       "      <td>Jurassic World</td>\n",
       "      <td>215000000</td>\n",
       "      <td>652270625</td>\n",
       "      <td>1648854864</td>\n",
       "      <td>2015</td>\n",
       "      <td>666.909239</td>\n",
       "    </tr>\n",
       "    <tr>\n",
       "      <th>tt0376136</th>\n",
       "      <td>[Comedy, Drama]</td>\n",
       "      <td>2011-10-28</td>\n",
       "      <td>The Rum Diary</td>\n",
       "      <td>45000000</td>\n",
       "      <td>13109815</td>\n",
       "      <td>21544732</td>\n",
       "      <td>2011</td>\n",
       "      <td>-52.122818</td>\n",
       "    </tr>\n",
       "  </tbody>\n",
       "</table>\n",
       "</div>"
      ],
      "text/plain": [
       "                                genres release_date  \\\n",
       "tconst                                                \n",
       "tt0249516  [Action, Animation, Comedy]   2012-12-31   \n",
       "tt0359950   [Adventure, Comedy, Drama]   2013-12-25   \n",
       "tt0365907       [Action, Crime, Drama]   2014-09-19   \n",
       "tt0369610  [Action, Adventure, Sci-Fi]   2015-06-12   \n",
       "tt0376136              [Comedy, Drama]   2011-10-28   \n",
       "\n",
       "                                     movie  production_budget  domestic_gross  \\\n",
       "tconst                                                                          \n",
       "tt0249516                       Foodfight!           45000000               0   \n",
       "tt0359950  The Secret Life of Walter Mitty           91000000        58236838   \n",
       "tt0365907      A Walk Among the Tombstones           28000000        26017685   \n",
       "tt0369610                   Jurassic World          215000000       652270625   \n",
       "tt0376136                    The Rum Diary           45000000        13109815   \n",
       "\n",
       "           worldwide_gross  release_year         ROI  \n",
       "tconst                                                \n",
       "tt0249516            73706          2012  -99.836209  \n",
       "tt0359950        187861183          2013  106.440860  \n",
       "tt0365907         62108587          2014  121.816382  \n",
       "tt0369610       1648854864          2015  666.909239  \n",
       "tt0376136         21544732          2011  -52.122818  "
      ]
     },
     "execution_count": 16,
     "metadata": {},
     "output_type": "execute_result"
    }
   ],
   "source": [
    "df = pd.merge(title_basics.reset_index(), movie_budgets,\n",
    "             left_on=['primary_title', 'start_year'],\n",
    "             right_on=['movie', 'release_year'])\n",
    "    \n",
    "#drop duplicate coloumns\n",
    "df = df.drop(['primary_title', 'start_year'], axis=1)\n",
    "\n",
    "df = df.set_index('tconst')\n",
    "\n",
    "df.head()"
   ]
  },
  {
   "cell_type": "markdown",
   "metadata": {},
   "source": [
    "We know there are duplicates because titles are listed with the same release year\n",
    "but different genres and tconst values.  We will drop duplicates."
   ]
  },
  {
   "cell_type": "code",
   "execution_count": 17,
   "metadata": {},
   "outputs": [
    {
     "data": {
      "text/plain": [
       "(94, 8)"
      ]
     },
     "execution_count": 17,
     "metadata": {},
     "output_type": "execute_result"
    }
   ],
   "source": [
    "#examine duplicates\n",
    "df[df.duplicated(\n",
    "        subset = ['movie', 'release_year'],\n",
    "        keep=False\n",
    "        )].sort_values(['movie', 'release_year']).sort_values(by = 'movie').shape"
   ]
  },
  {
   "cell_type": "markdown",
   "metadata": {},
   "source": [
    "Since we don't know which of the duplicated movies is correct we will drop \n",
    "them all.  If we don't we could end up identifying the wrong people as profitable\n",
    "which would be worse than not identifying a profitable person."
   ]
  },
  {
   "cell_type": "code",
   "execution_count": 18,
   "metadata": {},
   "outputs": [
    {
     "data": {
      "text/html": [
       "<div>\n",
       "<style scoped>\n",
       "    .dataframe tbody tr th:only-of-type {\n",
       "        vertical-align: middle;\n",
       "    }\n",
       "\n",
       "    .dataframe tbody tr th {\n",
       "        vertical-align: top;\n",
       "    }\n",
       "\n",
       "    .dataframe thead th {\n",
       "        text-align: right;\n",
       "    }\n",
       "</style>\n",
       "<table border=\"1\" class=\"dataframe\">\n",
       "  <thead>\n",
       "    <tr style=\"text-align: right;\">\n",
       "      <th></th>\n",
       "      <th>genres</th>\n",
       "      <th>release_date</th>\n",
       "      <th>movie</th>\n",
       "      <th>production_budget</th>\n",
       "      <th>domestic_gross</th>\n",
       "      <th>worldwide_gross</th>\n",
       "      <th>release_year</th>\n",
       "      <th>ROI</th>\n",
       "    </tr>\n",
       "    <tr>\n",
       "      <th>tconst</th>\n",
       "      <th></th>\n",
       "      <th></th>\n",
       "      <th></th>\n",
       "      <th></th>\n",
       "      <th></th>\n",
       "      <th></th>\n",
       "      <th></th>\n",
       "      <th></th>\n",
       "    </tr>\n",
       "  </thead>\n",
       "  <tbody>\n",
       "    <tr>\n",
       "      <th>tt1179933</th>\n",
       "      <td>[Drama, Horror, Mystery]</td>\n",
       "      <td>2016-03-11</td>\n",
       "      <td>10 Cloverfield Lane</td>\n",
       "      <td>5000000</td>\n",
       "      <td>72082999</td>\n",
       "      <td>108286422</td>\n",
       "      <td>2016</td>\n",
       "      <td>2065.728440</td>\n",
       "    </tr>\n",
       "    <tr>\n",
       "      <th>tt3453052</th>\n",
       "      <td>[Drama]</td>\n",
       "      <td>2015-11-11</td>\n",
       "      <td>10 Days in a Madhouse</td>\n",
       "      <td>12000000</td>\n",
       "      <td>14616</td>\n",
       "      <td>14616</td>\n",
       "      <td>2015</td>\n",
       "      <td>-99.878200</td>\n",
       "    </tr>\n",
       "    <tr>\n",
       "      <th>tt1413492</th>\n",
       "      <td>[Action, Drama, History]</td>\n",
       "      <td>2018-01-19</td>\n",
       "      <td>12 Strong</td>\n",
       "      <td>35000000</td>\n",
       "      <td>45819713</td>\n",
       "      <td>71118378</td>\n",
       "      <td>2018</td>\n",
       "      <td>103.195366</td>\n",
       "    </tr>\n",
       "    <tr>\n",
       "      <th>tt2024544</th>\n",
       "      <td>[Biography, Drama, History]</td>\n",
       "      <td>2013-10-18</td>\n",
       "      <td>12 Years a Slave</td>\n",
       "      <td>20000000</td>\n",
       "      <td>56671993</td>\n",
       "      <td>181025343</td>\n",
       "      <td>2013</td>\n",
       "      <td>805.126715</td>\n",
       "    </tr>\n",
       "    <tr>\n",
       "      <th>tt1542344</th>\n",
       "      <td>[Adventure, Biography, Drama]</td>\n",
       "      <td>2010-11-05</td>\n",
       "      <td>127 Hours</td>\n",
       "      <td>18000000</td>\n",
       "      <td>18335230</td>\n",
       "      <td>60217171</td>\n",
       "      <td>2010</td>\n",
       "      <td>234.539839</td>\n",
       "    </tr>\n",
       "  </tbody>\n",
       "</table>\n",
       "</div>"
      ],
      "text/plain": [
       "                                  genres release_date                  movie  \\\n",
       "tconst                                                                         \n",
       "tt1179933       [Drama, Horror, Mystery]   2016-03-11    10 Cloverfield Lane   \n",
       "tt3453052                        [Drama]   2015-11-11  10 Days in a Madhouse   \n",
       "tt1413492       [Action, Drama, History]   2018-01-19              12 Strong   \n",
       "tt2024544    [Biography, Drama, History]   2013-10-18       12 Years a Slave   \n",
       "tt1542344  [Adventure, Biography, Drama]   2010-11-05              127 Hours   \n",
       "\n",
       "           production_budget  domestic_gross  worldwide_gross  release_year  \\\n",
       "tconst                                                                        \n",
       "tt1179933            5000000        72082999        108286422          2016   \n",
       "tt3453052           12000000           14616            14616          2015   \n",
       "tt1413492           35000000        45819713         71118378          2018   \n",
       "tt2024544           20000000        56671993        181025343          2013   \n",
       "tt1542344           18000000        18335230         60217171          2010   \n",
       "\n",
       "                   ROI  \n",
       "tconst                  \n",
       "tt1179933  2065.728440  \n",
       "tt3453052   -99.878200  \n",
       "tt1413492   103.195366  \n",
       "tt2024544   805.126715  \n",
       "tt1542344   234.539839  "
      ]
     },
     "execution_count": 18,
     "metadata": {},
     "output_type": "execute_result"
    }
   ],
   "source": [
    "# drop all duplicates\n",
    "df = df[~df.duplicated(\n",
    "        subset = ['movie', 'release_year'],\n",
    "        keep=False\n",
    "        )].sort_values(['movie', 'release_year'])\n",
    "\n",
    "df.head()"
   ]
  },
  {
   "cell_type": "code",
   "execution_count": 19,
   "metadata": {},
   "outputs": [
    {
     "name": "stdout",
     "output_type": "stream",
     "text": [
      "<class 'pandas.core.frame.DataFrame'>\n",
      "Index: 1324 entries, tt1179933 to tt1293847\n",
      "Data columns (total 8 columns):\n",
      " #   Column             Non-Null Count  Dtype         \n",
      "---  ------             --------------  -----         \n",
      " 0   genres             1324 non-null   object        \n",
      " 1   release_date       1324 non-null   datetime64[ns]\n",
      " 2   movie              1324 non-null   object        \n",
      " 3   production_budget  1324 non-null   int64         \n",
      " 4   domestic_gross     1324 non-null   int64         \n",
      " 5   worldwide_gross    1324 non-null   int64         \n",
      " 6   release_year       1324 non-null   int64         \n",
      " 7   ROI                1324 non-null   float64       \n",
      "dtypes: datetime64[ns](1), float64(1), int64(4), object(2)\n",
      "memory usage: 93.1+ KB\n"
     ]
    }
   ],
   "source": [
    "df.info()"
   ]
  },
  {
   "cell_type": "markdown",
   "metadata": {},
   "source": [
    "### Join df with title_principals as df\n",
    "There is a unique key (tconst) for joining this title_principals with df.  This will give us movie\n",
    "data for each principal in a movie.  The indices are already set so they don't need to be specified."
   ]
  },
  {
   "cell_type": "code",
   "execution_count": 20,
   "metadata": {},
   "outputs": [
    {
     "data": {
      "text/html": [
       "<div>\n",
       "<style scoped>\n",
       "    .dataframe tbody tr th:only-of-type {\n",
       "        vertical-align: middle;\n",
       "    }\n",
       "\n",
       "    .dataframe tbody tr th {\n",
       "        vertical-align: top;\n",
       "    }\n",
       "\n",
       "    .dataframe thead th {\n",
       "        text-align: right;\n",
       "    }\n",
       "</style>\n",
       "<table border=\"1\" class=\"dataframe\">\n",
       "  <thead>\n",
       "    <tr style=\"text-align: right;\">\n",
       "      <th></th>\n",
       "      <th>genres</th>\n",
       "      <th>release_date</th>\n",
       "      <th>movie</th>\n",
       "      <th>production_budget</th>\n",
       "      <th>domestic_gross</th>\n",
       "      <th>worldwide_gross</th>\n",
       "      <th>release_year</th>\n",
       "      <th>ROI</th>\n",
       "    </tr>\n",
       "    <tr>\n",
       "      <th>tconst</th>\n",
       "      <th></th>\n",
       "      <th></th>\n",
       "      <th></th>\n",
       "      <th></th>\n",
       "      <th></th>\n",
       "      <th></th>\n",
       "      <th></th>\n",
       "      <th></th>\n",
       "    </tr>\n",
       "  </thead>\n",
       "  <tbody>\n",
       "    <tr>\n",
       "      <th>tt1179933</th>\n",
       "      <td>[Drama, Horror, Mystery]</td>\n",
       "      <td>2016-03-11</td>\n",
       "      <td>10 Cloverfield Lane</td>\n",
       "      <td>5000000</td>\n",
       "      <td>72082999</td>\n",
       "      <td>108286422</td>\n",
       "      <td>2016</td>\n",
       "      <td>2065.728440</td>\n",
       "    </tr>\n",
       "    <tr>\n",
       "      <th>tt3453052</th>\n",
       "      <td>[Drama]</td>\n",
       "      <td>2015-11-11</td>\n",
       "      <td>10 Days in a Madhouse</td>\n",
       "      <td>12000000</td>\n",
       "      <td>14616</td>\n",
       "      <td>14616</td>\n",
       "      <td>2015</td>\n",
       "      <td>-99.878200</td>\n",
       "    </tr>\n",
       "    <tr>\n",
       "      <th>tt1413492</th>\n",
       "      <td>[Action, Drama, History]</td>\n",
       "      <td>2018-01-19</td>\n",
       "      <td>12 Strong</td>\n",
       "      <td>35000000</td>\n",
       "      <td>45819713</td>\n",
       "      <td>71118378</td>\n",
       "      <td>2018</td>\n",
       "      <td>103.195366</td>\n",
       "    </tr>\n",
       "    <tr>\n",
       "      <th>tt2024544</th>\n",
       "      <td>[Biography, Drama, History]</td>\n",
       "      <td>2013-10-18</td>\n",
       "      <td>12 Years a Slave</td>\n",
       "      <td>20000000</td>\n",
       "      <td>56671993</td>\n",
       "      <td>181025343</td>\n",
       "      <td>2013</td>\n",
       "      <td>805.126715</td>\n",
       "    </tr>\n",
       "    <tr>\n",
       "      <th>tt1542344</th>\n",
       "      <td>[Adventure, Biography, Drama]</td>\n",
       "      <td>2010-11-05</td>\n",
       "      <td>127 Hours</td>\n",
       "      <td>18000000</td>\n",
       "      <td>18335230</td>\n",
       "      <td>60217171</td>\n",
       "      <td>2010</td>\n",
       "      <td>234.539839</td>\n",
       "    </tr>\n",
       "  </tbody>\n",
       "</table>\n",
       "</div>"
      ],
      "text/plain": [
       "                                  genres release_date                  movie  \\\n",
       "tconst                                                                         \n",
       "tt1179933       [Drama, Horror, Mystery]   2016-03-11    10 Cloverfield Lane   \n",
       "tt3453052                        [Drama]   2015-11-11  10 Days in a Madhouse   \n",
       "tt1413492       [Action, Drama, History]   2018-01-19              12 Strong   \n",
       "tt2024544    [Biography, Drama, History]   2013-10-18       12 Years a Slave   \n",
       "tt1542344  [Adventure, Biography, Drama]   2010-11-05              127 Hours   \n",
       "\n",
       "           production_budget  domestic_gross  worldwide_gross  release_year  \\\n",
       "tconst                                                                        \n",
       "tt1179933            5000000        72082999        108286422          2016   \n",
       "tt3453052           12000000           14616            14616          2015   \n",
       "tt1413492           35000000        45819713         71118378          2018   \n",
       "tt2024544           20000000        56671993        181025343          2013   \n",
       "tt1542344           18000000        18335230         60217171          2010   \n",
       "\n",
       "                   ROI  \n",
       "tconst                  \n",
       "tt1179933  2065.728440  \n",
       "tt3453052   -99.878200  \n",
       "tt1413492   103.195366  \n",
       "tt2024544   805.126715  \n",
       "tt1542344   234.539839  "
      ]
     },
     "execution_count": 20,
     "metadata": {},
     "output_type": "execute_result"
    }
   ],
   "source": [
    "df.head()\n"
   ]
  },
  {
   "cell_type": "code",
   "execution_count": 21,
   "metadata": {},
   "outputs": [
    {
     "data": {
      "text/html": [
       "<div>\n",
       "<style scoped>\n",
       "    .dataframe tbody tr th:only-of-type {\n",
       "        vertical-align: middle;\n",
       "    }\n",
       "\n",
       "    .dataframe tbody tr th {\n",
       "        vertical-align: top;\n",
       "    }\n",
       "\n",
       "    .dataframe thead th {\n",
       "        text-align: right;\n",
       "    }\n",
       "</style>\n",
       "<table border=\"1\" class=\"dataframe\">\n",
       "  <thead>\n",
       "    <tr style=\"text-align: right;\">\n",
       "      <th></th>\n",
       "      <th>nconst</th>\n",
       "      <th>category</th>\n",
       "    </tr>\n",
       "    <tr>\n",
       "      <th>tconst</th>\n",
       "      <th></th>\n",
       "      <th></th>\n",
       "    </tr>\n",
       "  </thead>\n",
       "  <tbody>\n",
       "    <tr>\n",
       "      <th>tt0111414</th>\n",
       "      <td>nm0246005</td>\n",
       "      <td>actor</td>\n",
       "    </tr>\n",
       "    <tr>\n",
       "      <th>tt0111414</th>\n",
       "      <td>nm0398271</td>\n",
       "      <td>director</td>\n",
       "    </tr>\n",
       "    <tr>\n",
       "      <th>tt0111414</th>\n",
       "      <td>nm3739909</td>\n",
       "      <td>producer</td>\n",
       "    </tr>\n",
       "    <tr>\n",
       "      <th>tt0323808</th>\n",
       "      <td>nm0059247</td>\n",
       "      <td>editor</td>\n",
       "    </tr>\n",
       "    <tr>\n",
       "      <th>tt0323808</th>\n",
       "      <td>nm3579312</td>\n",
       "      <td>actor</td>\n",
       "    </tr>\n",
       "  </tbody>\n",
       "</table>\n",
       "</div>"
      ],
      "text/plain": [
       "              nconst  category\n",
       "tconst                        \n",
       "tt0111414  nm0246005     actor\n",
       "tt0111414  nm0398271  director\n",
       "tt0111414  nm3739909  producer\n",
       "tt0323808  nm0059247    editor\n",
       "tt0323808  nm3579312     actor"
      ]
     },
     "execution_count": 21,
     "metadata": {},
     "output_type": "execute_result"
    }
   ],
   "source": [
    "title_principals.head()"
   ]
  },
  {
   "cell_type": "markdown",
   "metadata": {},
   "source": [
    "We want records for which we have data in both dataframes so we will use an inner join."
   ]
  },
  {
   "cell_type": "code",
   "execution_count": 22,
   "metadata": {},
   "outputs": [],
   "source": [
    "df = title_principals.join(df, how='inner')"
   ]
  },
  {
   "cell_type": "code",
   "execution_count": 23,
   "metadata": {},
   "outputs": [
    {
     "data": {
      "text/plain": [
       "0"
      ]
     },
     "execution_count": 23,
     "metadata": {},
     "output_type": "execute_result"
    }
   ],
   "source": [
    "# check for people appearing twice for the same film\n",
    "df.reset_index().duplicated(subset=['tconst', 'nconst']).sum()"
   ]
  },
  {
   "cell_type": "code",
   "execution_count": 24,
   "metadata": {},
   "outputs": [
    {
     "data": {
      "text/html": [
       "<div>\n",
       "<style scoped>\n",
       "    .dataframe tbody tr th:only-of-type {\n",
       "        vertical-align: middle;\n",
       "    }\n",
       "\n",
       "    .dataframe tbody tr th {\n",
       "        vertical-align: top;\n",
       "    }\n",
       "\n",
       "    .dataframe thead th {\n",
       "        text-align: right;\n",
       "    }\n",
       "</style>\n",
       "<table border=\"1\" class=\"dataframe\">\n",
       "  <thead>\n",
       "    <tr style=\"text-align: right;\">\n",
       "      <th></th>\n",
       "      <th>nconst</th>\n",
       "      <th>category</th>\n",
       "      <th>genres</th>\n",
       "      <th>release_date</th>\n",
       "      <th>movie</th>\n",
       "      <th>production_budget</th>\n",
       "      <th>domestic_gross</th>\n",
       "      <th>worldwide_gross</th>\n",
       "      <th>release_year</th>\n",
       "      <th>ROI</th>\n",
       "    </tr>\n",
       "    <tr>\n",
       "      <th>tconst</th>\n",
       "      <th></th>\n",
       "      <th></th>\n",
       "      <th></th>\n",
       "      <th></th>\n",
       "      <th></th>\n",
       "      <th></th>\n",
       "      <th></th>\n",
       "      <th></th>\n",
       "      <th></th>\n",
       "      <th></th>\n",
       "    </tr>\n",
       "  </thead>\n",
       "  <tbody>\n",
       "    <tr>\n",
       "      <th>tt0249516</th>\n",
       "      <td>nm0257258</td>\n",
       "      <td>producer</td>\n",
       "      <td>[Action, Animation, Comedy]</td>\n",
       "      <td>2012-12-31</td>\n",
       "      <td>Foodfight!</td>\n",
       "      <td>45000000</td>\n",
       "      <td>0</td>\n",
       "      <td>73706</td>\n",
       "      <td>2012</td>\n",
       "      <td>-99.836209</td>\n",
       "    </tr>\n",
       "    <tr>\n",
       "      <th>tt0249516</th>\n",
       "      <td>nm0240381</td>\n",
       "      <td>actor</td>\n",
       "      <td>[Action, Animation, Comedy]</td>\n",
       "      <td>2012-12-31</td>\n",
       "      <td>Foodfight!</td>\n",
       "      <td>45000000</td>\n",
       "      <td>0</td>\n",
       "      <td>73706</td>\n",
       "      <td>2012</td>\n",
       "      <td>-99.836209</td>\n",
       "    </tr>\n",
       "    <tr>\n",
       "      <th>tt0249516</th>\n",
       "      <td>nm0240380</td>\n",
       "      <td>actor</td>\n",
       "      <td>[Action, Animation, Comedy]</td>\n",
       "      <td>2012-12-31</td>\n",
       "      <td>Foodfight!</td>\n",
       "      <td>45000000</td>\n",
       "      <td>0</td>\n",
       "      <td>73706</td>\n",
       "      <td>2012</td>\n",
       "      <td>-99.836209</td>\n",
       "    </tr>\n",
       "    <tr>\n",
       "      <th>tt0249516</th>\n",
       "      <td>nm0000221</td>\n",
       "      <td>actor</td>\n",
       "      <td>[Action, Animation, Comedy]</td>\n",
       "      <td>2012-12-31</td>\n",
       "      <td>Foodfight!</td>\n",
       "      <td>45000000</td>\n",
       "      <td>0</td>\n",
       "      <td>73706</td>\n",
       "      <td>2012</td>\n",
       "      <td>-99.836209</td>\n",
       "    </tr>\n",
       "    <tr>\n",
       "      <th>tt0249516</th>\n",
       "      <td>nm0519456</td>\n",
       "      <td>actor</td>\n",
       "      <td>[Action, Animation, Comedy]</td>\n",
       "      <td>2012-12-31</td>\n",
       "      <td>Foodfight!</td>\n",
       "      <td>45000000</td>\n",
       "      <td>0</td>\n",
       "      <td>73706</td>\n",
       "      <td>2012</td>\n",
       "      <td>-99.836209</td>\n",
       "    </tr>\n",
       "  </tbody>\n",
       "</table>\n",
       "</div>"
      ],
      "text/plain": [
       "              nconst  category                       genres release_date  \\\n",
       "tconst                                                                     \n",
       "tt0249516  nm0257258  producer  [Action, Animation, Comedy]   2012-12-31   \n",
       "tt0249516  nm0240381     actor  [Action, Animation, Comedy]   2012-12-31   \n",
       "tt0249516  nm0240380     actor  [Action, Animation, Comedy]   2012-12-31   \n",
       "tt0249516  nm0000221     actor  [Action, Animation, Comedy]   2012-12-31   \n",
       "tt0249516  nm0519456     actor  [Action, Animation, Comedy]   2012-12-31   \n",
       "\n",
       "                movie  production_budget  domestic_gross  worldwide_gross  \\\n",
       "tconst                                                                      \n",
       "tt0249516  Foodfight!           45000000               0            73706   \n",
       "tt0249516  Foodfight!           45000000               0            73706   \n",
       "tt0249516  Foodfight!           45000000               0            73706   \n",
       "tt0249516  Foodfight!           45000000               0            73706   \n",
       "tt0249516  Foodfight!           45000000               0            73706   \n",
       "\n",
       "           release_year        ROI  \n",
       "tconst                              \n",
       "tt0249516          2012 -99.836209  \n",
       "tt0249516          2012 -99.836209  \n",
       "tt0249516          2012 -99.836209  \n",
       "tt0249516          2012 -99.836209  \n",
       "tt0249516          2012 -99.836209  "
      ]
     },
     "execution_count": 24,
     "metadata": {},
     "output_type": "execute_result"
    }
   ],
   "source": [
    "df.head()"
   ]
  },
  {
   "cell_type": "code",
   "execution_count": 25,
   "metadata": {},
   "outputs": [
    {
     "name": "stdout",
     "output_type": "stream",
     "text": [
      "<class 'pandas.core.frame.DataFrame'>\n",
      "Index: 13144 entries, tt0249516 to tt9024106\n",
      "Data columns (total 10 columns):\n",
      " #   Column             Non-Null Count  Dtype         \n",
      "---  ------             --------------  -----         \n",
      " 0   nconst             13144 non-null  object        \n",
      " 1   category           13144 non-null  object        \n",
      " 2   genres             13144 non-null  object        \n",
      " 3   release_date       13144 non-null  datetime64[ns]\n",
      " 4   movie              13144 non-null  object        \n",
      " 5   production_budget  13144 non-null  int64         \n",
      " 6   domestic_gross     13144 non-null  int64         \n",
      " 7   worldwide_gross    13144 non-null  int64         \n",
      " 8   release_year       13144 non-null  int64         \n",
      " 9   ROI                13144 non-null  float64       \n",
      "dtypes: datetime64[ns](1), float64(1), int64(4), object(4)\n",
      "memory usage: 1.1+ MB\n"
     ]
    }
   ],
   "source": [
    "df.info()"
   ]
  },
  {
   "cell_type": "markdown",
   "metadata": {},
   "source": [
    "### Join df with name_basics as df"
   ]
  },
  {
   "cell_type": "markdown",
   "metadata": {},
   "source": [
    "Because name_basics is just a Series, to join df with name_basics we can just use map."
   ]
  },
  {
   "cell_type": "code",
   "execution_count": 26,
   "metadata": {},
   "outputs": [
    {
     "data": {
      "text/html": [
       "<div>\n",
       "<style scoped>\n",
       "    .dataframe tbody tr th:only-of-type {\n",
       "        vertical-align: middle;\n",
       "    }\n",
       "\n",
       "    .dataframe tbody tr th {\n",
       "        vertical-align: top;\n",
       "    }\n",
       "\n",
       "    .dataframe thead th {\n",
       "        text-align: right;\n",
       "    }\n",
       "</style>\n",
       "<table border=\"1\" class=\"dataframe\">\n",
       "  <thead>\n",
       "    <tr style=\"text-align: right;\">\n",
       "      <th></th>\n",
       "      <th>nconst</th>\n",
       "      <th>category</th>\n",
       "      <th>genres</th>\n",
       "      <th>release_date</th>\n",
       "      <th>movie</th>\n",
       "      <th>production_budget</th>\n",
       "      <th>domestic_gross</th>\n",
       "      <th>worldwide_gross</th>\n",
       "      <th>release_year</th>\n",
       "      <th>ROI</th>\n",
       "      <th>person_name</th>\n",
       "    </tr>\n",
       "    <tr>\n",
       "      <th>tconst</th>\n",
       "      <th></th>\n",
       "      <th></th>\n",
       "      <th></th>\n",
       "      <th></th>\n",
       "      <th></th>\n",
       "      <th></th>\n",
       "      <th></th>\n",
       "      <th></th>\n",
       "      <th></th>\n",
       "      <th></th>\n",
       "      <th></th>\n",
       "    </tr>\n",
       "  </thead>\n",
       "  <tbody>\n",
       "    <tr>\n",
       "      <th>tt0249516</th>\n",
       "      <td>nm0257258</td>\n",
       "      <td>producer</td>\n",
       "      <td>[Action, Animation, Comedy]</td>\n",
       "      <td>2012-12-31</td>\n",
       "      <td>Foodfight!</td>\n",
       "      <td>45000000</td>\n",
       "      <td>0</td>\n",
       "      <td>73706</td>\n",
       "      <td>2012</td>\n",
       "      <td>-99.836209</td>\n",
       "      <td>Robert Engelman</td>\n",
       "    </tr>\n",
       "    <tr>\n",
       "      <th>tt0249516</th>\n",
       "      <td>nm0240381</td>\n",
       "      <td>actor</td>\n",
       "      <td>[Action, Animation, Comedy]</td>\n",
       "      <td>2012-12-31</td>\n",
       "      <td>Foodfight!</td>\n",
       "      <td>45000000</td>\n",
       "      <td>0</td>\n",
       "      <td>73706</td>\n",
       "      <td>2012</td>\n",
       "      <td>-99.836209</td>\n",
       "      <td>Hilary Duff</td>\n",
       "    </tr>\n",
       "    <tr>\n",
       "      <th>tt0249516</th>\n",
       "      <td>nm0240380</td>\n",
       "      <td>actor</td>\n",
       "      <td>[Action, Animation, Comedy]</td>\n",
       "      <td>2012-12-31</td>\n",
       "      <td>Foodfight!</td>\n",
       "      <td>45000000</td>\n",
       "      <td>0</td>\n",
       "      <td>73706</td>\n",
       "      <td>2012</td>\n",
       "      <td>-99.836209</td>\n",
       "      <td>Haylie Duff</td>\n",
       "    </tr>\n",
       "    <tr>\n",
       "      <th>tt0249516</th>\n",
       "      <td>nm0000221</td>\n",
       "      <td>actor</td>\n",
       "      <td>[Action, Animation, Comedy]</td>\n",
       "      <td>2012-12-31</td>\n",
       "      <td>Foodfight!</td>\n",
       "      <td>45000000</td>\n",
       "      <td>0</td>\n",
       "      <td>73706</td>\n",
       "      <td>2012</td>\n",
       "      <td>-99.836209</td>\n",
       "      <td>Charlie Sheen</td>\n",
       "    </tr>\n",
       "    <tr>\n",
       "      <th>tt0249516</th>\n",
       "      <td>nm0519456</td>\n",
       "      <td>actor</td>\n",
       "      <td>[Action, Animation, Comedy]</td>\n",
       "      <td>2012-12-31</td>\n",
       "      <td>Foodfight!</td>\n",
       "      <td>45000000</td>\n",
       "      <td>0</td>\n",
       "      <td>73706</td>\n",
       "      <td>2012</td>\n",
       "      <td>-99.836209</td>\n",
       "      <td>Eva Longoria</td>\n",
       "    </tr>\n",
       "  </tbody>\n",
       "</table>\n",
       "</div>"
      ],
      "text/plain": [
       "              nconst  category                       genres release_date  \\\n",
       "tconst                                                                     \n",
       "tt0249516  nm0257258  producer  [Action, Animation, Comedy]   2012-12-31   \n",
       "tt0249516  nm0240381     actor  [Action, Animation, Comedy]   2012-12-31   \n",
       "tt0249516  nm0240380     actor  [Action, Animation, Comedy]   2012-12-31   \n",
       "tt0249516  nm0000221     actor  [Action, Animation, Comedy]   2012-12-31   \n",
       "tt0249516  nm0519456     actor  [Action, Animation, Comedy]   2012-12-31   \n",
       "\n",
       "                movie  production_budget  domestic_gross  worldwide_gross  \\\n",
       "tconst                                                                      \n",
       "tt0249516  Foodfight!           45000000               0            73706   \n",
       "tt0249516  Foodfight!           45000000               0            73706   \n",
       "tt0249516  Foodfight!           45000000               0            73706   \n",
       "tt0249516  Foodfight!           45000000               0            73706   \n",
       "tt0249516  Foodfight!           45000000               0            73706   \n",
       "\n",
       "           release_year        ROI      person_name  \n",
       "tconst                                               \n",
       "tt0249516          2012 -99.836209  Robert Engelman  \n",
       "tt0249516          2012 -99.836209      Hilary Duff  \n",
       "tt0249516          2012 -99.836209      Haylie Duff  \n",
       "tt0249516          2012 -99.836209    Charlie Sheen  \n",
       "tt0249516          2012 -99.836209     Eva Longoria  "
      ]
     },
     "execution_count": 26,
     "metadata": {},
     "output_type": "execute_result"
    }
   ],
   "source": [
    "df['person_name'] = df['nconst'].map(name_basics)\n",
    "df.head()"
   ]
  },
  {
   "cell_type": "markdown",
   "metadata": {},
   "source": [
    "Now that the data is merged, reset the index so we don't have to do that for every groupby.\n"
   ]
  },
  {
   "cell_type": "code",
   "execution_count": 27,
   "metadata": {
    "scrolled": true
   },
   "outputs": [
    {
     "data": {
      "text/html": [
       "<div>\n",
       "<style scoped>\n",
       "    .dataframe tbody tr th:only-of-type {\n",
       "        vertical-align: middle;\n",
       "    }\n",
       "\n",
       "    .dataframe tbody tr th {\n",
       "        vertical-align: top;\n",
       "    }\n",
       "\n",
       "    .dataframe thead th {\n",
       "        text-align: right;\n",
       "    }\n",
       "</style>\n",
       "<table border=\"1\" class=\"dataframe\">\n",
       "  <thead>\n",
       "    <tr style=\"text-align: right;\">\n",
       "      <th></th>\n",
       "      <th>tconst</th>\n",
       "      <th>nconst</th>\n",
       "      <th>category</th>\n",
       "      <th>genres</th>\n",
       "      <th>release_date</th>\n",
       "      <th>movie</th>\n",
       "      <th>production_budget</th>\n",
       "      <th>domestic_gross</th>\n",
       "      <th>worldwide_gross</th>\n",
       "      <th>release_year</th>\n",
       "      <th>ROI</th>\n",
       "      <th>person_name</th>\n",
       "    </tr>\n",
       "  </thead>\n",
       "  <tbody>\n",
       "    <tr>\n",
       "      <th>0</th>\n",
       "      <td>tt0249516</td>\n",
       "      <td>nm0257258</td>\n",
       "      <td>producer</td>\n",
       "      <td>[Action, Animation, Comedy]</td>\n",
       "      <td>2012-12-31</td>\n",
       "      <td>Foodfight!</td>\n",
       "      <td>45000000</td>\n",
       "      <td>0</td>\n",
       "      <td>73706</td>\n",
       "      <td>2012</td>\n",
       "      <td>-99.836209</td>\n",
       "      <td>Robert Engelman</td>\n",
       "    </tr>\n",
       "    <tr>\n",
       "      <th>1</th>\n",
       "      <td>tt0249516</td>\n",
       "      <td>nm0240381</td>\n",
       "      <td>actor</td>\n",
       "      <td>[Action, Animation, Comedy]</td>\n",
       "      <td>2012-12-31</td>\n",
       "      <td>Foodfight!</td>\n",
       "      <td>45000000</td>\n",
       "      <td>0</td>\n",
       "      <td>73706</td>\n",
       "      <td>2012</td>\n",
       "      <td>-99.836209</td>\n",
       "      <td>Hilary Duff</td>\n",
       "    </tr>\n",
       "    <tr>\n",
       "      <th>2</th>\n",
       "      <td>tt0249516</td>\n",
       "      <td>nm0240380</td>\n",
       "      <td>actor</td>\n",
       "      <td>[Action, Animation, Comedy]</td>\n",
       "      <td>2012-12-31</td>\n",
       "      <td>Foodfight!</td>\n",
       "      <td>45000000</td>\n",
       "      <td>0</td>\n",
       "      <td>73706</td>\n",
       "      <td>2012</td>\n",
       "      <td>-99.836209</td>\n",
       "      <td>Haylie Duff</td>\n",
       "    </tr>\n",
       "    <tr>\n",
       "      <th>3</th>\n",
       "      <td>tt0249516</td>\n",
       "      <td>nm0000221</td>\n",
       "      <td>actor</td>\n",
       "      <td>[Action, Animation, Comedy]</td>\n",
       "      <td>2012-12-31</td>\n",
       "      <td>Foodfight!</td>\n",
       "      <td>45000000</td>\n",
       "      <td>0</td>\n",
       "      <td>73706</td>\n",
       "      <td>2012</td>\n",
       "      <td>-99.836209</td>\n",
       "      <td>Charlie Sheen</td>\n",
       "    </tr>\n",
       "    <tr>\n",
       "      <th>4</th>\n",
       "      <td>tt0249516</td>\n",
       "      <td>nm0519456</td>\n",
       "      <td>actor</td>\n",
       "      <td>[Action, Animation, Comedy]</td>\n",
       "      <td>2012-12-31</td>\n",
       "      <td>Foodfight!</td>\n",
       "      <td>45000000</td>\n",
       "      <td>0</td>\n",
       "      <td>73706</td>\n",
       "      <td>2012</td>\n",
       "      <td>-99.836209</td>\n",
       "      <td>Eva Longoria</td>\n",
       "    </tr>\n",
       "  </tbody>\n",
       "</table>\n",
       "</div>"
      ],
      "text/plain": [
       "      tconst     nconst  category                       genres release_date  \\\n",
       "0  tt0249516  nm0257258  producer  [Action, Animation, Comedy]   2012-12-31   \n",
       "1  tt0249516  nm0240381     actor  [Action, Animation, Comedy]   2012-12-31   \n",
       "2  tt0249516  nm0240380     actor  [Action, Animation, Comedy]   2012-12-31   \n",
       "3  tt0249516  nm0000221     actor  [Action, Animation, Comedy]   2012-12-31   \n",
       "4  tt0249516  nm0519456     actor  [Action, Animation, Comedy]   2012-12-31   \n",
       "\n",
       "        movie  production_budget  domestic_gross  worldwide_gross  \\\n",
       "0  Foodfight!           45000000               0            73706   \n",
       "1  Foodfight!           45000000               0            73706   \n",
       "2  Foodfight!           45000000               0            73706   \n",
       "3  Foodfight!           45000000               0            73706   \n",
       "4  Foodfight!           45000000               0            73706   \n",
       "\n",
       "   release_year        ROI      person_name  \n",
       "0          2012 -99.836209  Robert Engelman  \n",
       "1          2012 -99.836209      Hilary Duff  \n",
       "2          2012 -99.836209      Haylie Duff  \n",
       "3          2012 -99.836209    Charlie Sheen  \n",
       "4          2012 -99.836209     Eva Longoria  "
      ]
     },
     "execution_count": 27,
     "metadata": {},
     "output_type": "execute_result"
    }
   ],
   "source": [
    "# Now that the data is merged, reset the index so we don't have to do that for every groupby.\n",
    "df = df.reset_index()\n",
    "df.head()"
   ]
  },
  {
   "cell_type": "markdown",
   "metadata": {},
   "source": [
    "## Remove Outliers\n",
    "\n",
    "First we will visualize our data to see if it looks like there are outliers.  Then we will begin removing outliers.\n",
    "\n",
    "Our first task will be to create a reusable function to visualize our data."
   ]
  },
  {
   "cell_type": "code",
   "execution_count": 28,
   "metadata": {},
   "outputs": [],
   "source": [
    "#explode genres for grouping and visualizing\n",
    "df = df.explode('genres')"
   ]
  },
  {
   "cell_type": "markdown",
   "metadata": {},
   "source": [
    "Create a function to plot outliers so we can visualize the results of our outlier removal."
   ]
  },
  {
   "cell_type": "code",
   "execution_count": 29,
   "metadata": {},
   "outputs": [],
   "source": [
    "def outlier_plot(df):\n",
    "    '''function to visualize outliers'''\n",
    "    \n",
    "    f, (ax1, ax2) = plt.subplots(1, 2, sharey=True, figsize = (15,6))\n",
    "    \n",
    "    sns.scatterplot(data = df, \n",
    "                    x = 'production_budget', \n",
    "                    y = 'ROI', \n",
    "                    ax = ax1)\n",
    "\n",
    "    sns.boxplot(data = df,\n",
    "                x=\"genres\", \n",
    "                y=\"ROI\",\n",
    "                #kind=\"box\", \n",
    "                showfliers = True,\n",
    "                #height=6,\n",
    "                #aspect=1.5,\n",
    "                ax = ax2)\n",
    "    plt.xticks(rotation = 90);"
   ]
  },
  {
   "cell_type": "code",
   "execution_count": 30,
   "metadata": {},
   "outputs": [
    {
     "data": {
      "image/png": "[encoded data removed]",
      "text/plain": [
       "<Figure size 1080x432 with 2 Axes>"
      ]
     },
     "metadata": {
      "needs_background": "light"
     },
     "output_type": "display_data"
    }
   ],
   "source": [
    "outlier_plot(df)"
   ]
  },
  {
   "cell_type": "markdown",
   "metadata": {},
   "source": [
    "### Overall with zcore\n",
    "First we will remove all outliers with regard to movie budget using the zcore method (removing everything more than 3 std from the mean).\n",
    "\n",
    "We create a zcore feature using the scipy.stats package and use it to limit our results.  We do not need to remove any outliers below 3 std below the mean because ROI below -100% is not possible."
   ]
  },
  {
   "cell_type": "code",
   "execution_count": 31,
   "metadata": {},
   "outputs": [],
   "source": [
    "# remove overall roi outliers using zscore method\n",
    "df['ROI_zscore'] = zscore(df['ROI'])\n",
    "df = df[df['ROI_zscore'] <= 3]"
   ]
  },
  {
   "cell_type": "code",
   "execution_count": null,
   "metadata": {},
   "outputs": [],
   "source": [
    "outlier_plot(df)"
   ]
  },
  {
   "cell_type": "markdown",
   "metadata": {},
   "source": [
    "### By Genre with Q3 + (1.5*IRQ)\n",
    "This is better, but it looks like there are still quite a few outliers.  Perhaps comapring outliers for all movies is too broad.  Lets remove outliers with the Q3 + (1.5\\*IRQ) method **for each genre** .  Again we do not need to remove any outliers below Q1 - (1.5\\*IQR) because ROI below -100% is not possible."
   ]
  },
  {
   "cell_type": "code",
   "execution_count": null,
   "metadata": {
    "scrolled": true
   },
   "outputs": [],
   "source": [
    "#computer iqr_table is a function in the data_helpers package\n",
    "iqr = data_functions.compute_iqr_table(df)\n",
    "\n",
    "df['iqr_upperthresh'] = df['genres'].map(iqr['upper_thresh'])\n",
    "df = df[df['ROI'] < df['iqr_upperthresh']]\n"
   ]
  },
  {
   "cell_type": "code",
   "execution_count": null,
   "metadata": {},
   "outputs": [],
   "source": [
    "outlier_plot(df)"
   ]
  },
  {
   "cell_type": "markdown",
   "metadata": {},
   "source": [
    "That is looking much better."
   ]
  },
  {
   "cell_type": "markdown",
   "metadata": {},
   "source": [
    "# Questions\n",
    "## Q1: Which Genres are the most profitable?\n",
    "\n",
    "Our dataframe right now has movies appearing more than once per genre because it has a row for each role in the movie. For this question we need to make sure there is only one of each movie per genre.  It is ok for movies in multiple genres to appear in each of those genres once."
   ]
  },
  {
   "cell_type": "code",
   "execution_count": null,
   "metadata": {
    "scrolled": false
   },
   "outputs": [],
   "source": [
    "# remove duplicate movies\n",
    "df_genres = df[~df.duplicated(subset=['tconst', 'genres'])]\n",
    "\n",
    "# Count the number of unique movies in each genre\n",
    "movie_count = df_genres.groupby('genres')['tconst'].count().sort_values(ascending=False)\n",
    "movie_count"
   ]
  },
  {
   "cell_type": "code",
   "execution_count": null,
   "metadata": {},
   "outputs": [],
   "source": [
    "# keep only genres with more than 90 films\n",
    "# (90 was chose based evidence of sufficient data in visualizations)\n",
    "movie_count = movie_count[movie_count > 90]\n",
    "\n",
    "# filter rows for only categores left in movie_count\n",
    "df_genres = df_genres[df_genres['genres'].isin(movie_count.index)]"
   ]
  },
  {
   "cell_type": "code",
   "execution_count": null,
   "metadata": {},
   "outputs": [],
   "source": [
    "# groupby genre to get mean ROI\n",
    "genre_ROI = df_genres[['genres', 'ROI']].groupby('genres').mean()\n",
    "genre_ROI = genre_ROI['ROI'] #just need a series\n",
    "genre_ROI = genre_ROI.sort_values(ascending = False)\n",
    "plt.figure(figsize = (12,6))\n",
    "ax = sns.barplot(y = genre_ROI, x = genre_ROI.index, palette='Blues_r')\n",
    "plt.xticks(rotation = 45, ha='right');\n",
    "\n",
    "genre_ROI.head()"
   ]
  },
  {
   "cell_type": "code",
   "execution_count": null,
   "metadata": {},
   "outputs": [],
   "source": [
    "\n",
    "genre_ROI = df_genres[['genres', 'ROI']].groupby('genres').mean()\n",
    "genre_ROI = genre_ROI['ROI'] #just need a series\n",
    "genre_ROI = genre_ROI.sort_values(ascending = False)\n",
    "\n",
    "plt.figure(figsize = (12,6))\n",
    "\n",
    "clrs = ['grey' for x in genre_ROI.index ]\n",
    "clrs[0] = '#EEC643'\n",
    "clrs[1] = '#42D9C8'\n",
    "clrs[2] = '#558B2F'\n",
    "clrs[3] = '#931621'\n",
    "\n",
    "ax = sns.barplot(y = genre_ROI, x = genre_ROI.index, palette=clrs, **{'alpha':0.7})\n",
    "\n",
    "plt.xticks(rotation = 45, ha='right');\n",
    "plt.xlabel('Genre')\n",
    "sns.despine()\n",
    "\n",
    "plt.title('Average ROI by Genre (alltime)')\n",
    "\n",
    "ax.yaxis.set_major_formatter(mtick.PercentFormatter())"
   ]
  },
  {
   "cell_type": "code",
   "execution_count": null,
   "metadata": {},
   "outputs": [],
   "source": [
    "genres = list(genre_ROI[:4].index)\n",
    "genres"
   ]
  },
  {
   "cell_type": "code",
   "execution_count": null,
   "metadata": {},
   "outputs": [],
   "source": [
    "# make sure each movie only appears once in each category \n",
    "plot_df = df[~df.duplicated(subset=['tconst', 'genres'])].copy()\n",
    "\n",
    "#get a date ordinal version of the release date so we can rename the x axis later\n",
    "plot_df['date_ordinal'] = pd.to_datetime(plot_df['release_date']).apply(lambda date: date.toordinal())\n",
    "\n",
    "#create a 4x4 subplot\n",
    "fig, axs = plt.subplots(2, 2, figsize = (15,9), sharex=True, sharey=True)\n",
    "\n",
    "# setup our naming and colors\n",
    "colors = ['#558B2F', '#EEC643', '#931621', '#42D9C8']\n",
    "\n",
    "# create inteligible tick labels.\n",
    "ticks = []\n",
    "for year in range(2012, 2020, 2):\n",
    "    year = '-'.join([str(year),'01','01'])\n",
    "    ticks.append(pd.to_datetime(year).toordinal())\n",
    "new_labels = [dt.date.fromordinal(int(item)).year for item in ticks]\n",
    "\n",
    "\n",
    "#create the plots\n",
    "for i in range(len(genres)):\n",
    "    ax = axs[i//2][i%2]\n",
    "    sns.regplot(data = plot_df[plot_df['genres'] == genres[i]],\n",
    "                x = 'date_ordinal',\n",
    "                y = 'ROI',\n",
    "                color = colors[i],\n",
    "                label = genres[i],\n",
    "                scatter_kws={'alpha':.1},\n",
    "                line_kws={'alpha':1},\n",
    "                ax = ax)\n",
    "\n",
    "    ax.legend()\n",
    "    ax.set_xlim(plot_df['date_ordinal'].min() - 1, plot_df['date_ordinal'].max() + 1)\n",
    "    \n",
    "    ax.set_xticks(ticks)\n",
    "    ax.set_xticklabels(new_labels)\n",
    "\n",
    "    ax.xaxis.label.set_visible(False)\n",
    "    ax.yaxis.label.set_visible(False)\n",
    "    \n",
    "    ax.tick_params(  axis='both',         \n",
    "                        #which='both',     \n",
    "                        left=True,\n",
    "                        bottom=True,\n",
    "                        direction='in',\n",
    "                        labelbottom=True,\n",
    "                        labelleft=True)\n",
    "    # add % to ROI labels\n",
    "    ax.yaxis.set_major_formatter(mtick.PercentFormatter())\n",
    "\n",
    "    sns.despine()\n",
    "    \n",
    "    \n",
    "## Use for plotting in poster context\n",
    "\n",
    "axs[0][0].tick_params(#axis='both',\n",
    "                    bottom=False,\n",
    "                    labelbottom=False,\n",
    "                    labelleft=True)\n",
    "\n",
    "axs[0][1].tick_params(\n",
    "                    bottom=False,\n",
    "                    left=False,\n",
    "                    labelbottom=False,\n",
    "                    labelleft=False)\n",
    "\n",
    "axs[1][1].tick_params(\n",
    "                    left=False,\n",
    "                    labelbottom=True,\n",
    "                    labelleft=False)\n",
    "\n",
    "#Create Shared Title and YLabel\n",
    "fig.add_subplot(111, frameon=False)\n",
    "plt.tick_params(labelcolor='none', top=False, bottom=False, left=False, right=False)\n",
    "plt.ylabel(\"ROI\", labelpad=40)\n",
    "plt.title('ROI Trend', pad=30)\n",
    "fig.tight_layout()\n",
    "\n",
    "\n",
    "\n",
    "ax.tick_params()\n",
    "plt.draw()"
   ]
  },
  {
   "cell_type": "markdown",
   "metadata": {},
   "source": [
    "### Conclusion\n",
    "Of the top four genres, one shows an obvioius upward trend in ROI.  Sci-Fi and Romance appear flat.  **Horror, Mystery** are not only the top earners by ROI, but the are both trending up.  These are the idea genres to focus on or a first film."
   ]
  },
  {
   "cell_type": "markdown",
   "metadata": {},
   "source": [
    "## Q2: What is the ideal budget for the film?"
   ]
  },
  {
   "cell_type": "markdown",
   "metadata": {},
   "source": [
    "First we look to see if there is a correlation between production budget and ROI across all categores."
   ]
  },
  {
   "cell_type": "code",
   "execution_count": null,
   "metadata": {},
   "outputs": [],
   "source": [
    "genres2 = ['Mystery', 'Horror']\n",
    "df_genres2 = df_genres[df_genres['genres'].isin(genres2)]\n",
    "df_genres2[['production_budget', 'ROI']].corr()"
   ]
  },
  {
   "cell_type": "code",
   "execution_count": null,
   "metadata": {},
   "outputs": [],
   "source": [
    "#plt.figure(figsize = (12, 9))\n",
    "\n",
    "\n",
    "fig, ax = plt.subplots(1, 1, figsize = (12,9))\n",
    "\n",
    "#genres = ['Horror', 'Mystery','Thriller']\n",
    "\n",
    "\n",
    "#colors = {'Horror': '#558B2F',\n",
    "#          'Mystery': '#EEC643', \n",
    "#          'Thriller': '#42D9C8'}\n",
    "\n",
    "for i in range(len(genres2)):\n",
    "    sns.regplot(data = df_genres[df_genres['genres'] == genres2[i]],\n",
    "                x='production_budget',\n",
    "                y='ROI',\n",
    "                label = genres2[i],\n",
    "                scatter_kws={'alpha':0.2}, #, 's':20},\n",
    "                line_kws={'alpha':0.8},\n",
    "                color=colors[i],\n",
    "                ci=None,\n",
    "                ax = ax)\n",
    "\n",
    "\n",
    "# format the plot\n",
    "sns.despine()\n",
    "ax.set_ylim(- 100, 1000)\n",
    "ax.set_xlim(0, 200000000)\n",
    "\n",
    "#Add text elements\n",
    "plt.title('Budget ROI Relationship')\n",
    "plt.legend() #fontsize=\"large\")\n",
    "ax.yaxis.set_major_formatter(mtick.PercentFormatter())\n",
    "plt.xlabel('Production Budget in Millions of USD')\n",
    "\n",
    "ticks = ax.get_xticks()\n",
    "labels = [str(int(x)) + 'M' for x in ticks/1000000]\n",
    "plt.xticks(ticks = ticks, labels = labels);"
   ]
  },
  {
   "cell_type": "markdown",
   "metadata": {},
   "source": [
    "The ROI is negativly correlated with Budget for these categories."
   ]
  },
  {
   "cell_type": "markdown",
   "metadata": {},
   "source": [
    "### Create Budget Class Feature\n",
    "\n",
    "Does budget threshold change the ROI distribution?  We could build a a feature and see which does best for ROI.\n",
    "\n",
    "\n",
    "Here are the thresholds for the various unions:\n",
    "    \n",
    "    The DGA and SAG thresholds for low budget are similar: $2.6 and $2.5 million respectively. The writer’s guild draws the line way down at $1.2 million.\n",
    "\n",
    "    IATSE (the union that covers most of the below-the-line crew) has three different tiers: below $6 million, between $6 and $10 million, and $10 to $14.2 million. (Anything above that is full union rates.) To give you a sense of scale, Get Out only cost $4.5 million. Then again, not paying the crew full union wages and benefits is probably how Blumhouse keep their films profitable.\n",
    "    \n",
    "Source: http://www.anonymousproductionassistant.com/2018/01/17/low-budget-movie/\n"
   ]
  },
  {
   "cell_type": "code",
   "execution_count": null,
   "metadata": {},
   "outputs": [],
   "source": [
    "bc_df = df_genres[df_genres['genres'].isin(genres2)].copy()"
   ]
  },
  {
   "cell_type": "code",
   "execution_count": null,
   "metadata": {},
   "outputs": [],
   "source": [
    "# Use a helper function to create a budget class feature\n",
    "bc_df['budget_class'] = bc_df['production_budget'].apply(data_functions.get_budget_class)\n",
    "bc_df.head()"
   ]
  },
  {
   "cell_type": "markdown",
   "metadata": {},
   "source": [
    "### Plot Budget Class"
   ]
  },
  {
   "cell_type": "code",
   "execution_count": null,
   "metadata": {},
   "outputs": [],
   "source": [
    "sns.catplot(x=\"genres\", \n",
    "            y=\"ROI\", \n",
    "            hue=\"budget_class\", \n",
    "            hue_order=['under 6m', '6-10m', '10-14.2m', '14.2m +'], \n",
    "            kind=\"box\", \n",
    "            height = 6,\n",
    "            aspect = 1.5,\n",
    "            showfliers = False, \n",
    "            data=bc_df)"
   ]
  },
  {
   "cell_type": "code",
   "execution_count": null,
   "metadata": {},
   "outputs": [],
   "source": [
    "#Check how many films are in each budget_class by Category\n",
    "bc_df.groupby(['genres', 'budget_class']).tconst.nunique()[genres2]"
   ]
  },
  {
   "cell_type": "markdown",
   "metadata": {},
   "source": [
    "Drop the under 6m category because there is not enough data"
   ]
  },
  {
   "cell_type": "markdown",
   "metadata": {},
   "source": [
    "### Most profitable Genres by Budget Class Box Plot"
   ]
  },
  {
   "cell_type": "code",
   "execution_count": null,
   "metadata": {
    "scrolled": false
   },
   "outputs": [],
   "source": [
    "plt.figure(figsize = (12, 9))\n",
    "\n",
    "ax = sns.catplot(x=\"genres\", \n",
    "            y=\"ROI\", \n",
    "            hue=\"budget_class\", \n",
    "            hue_order=['6-10m', '10-14.2m', '14.2m +'], \n",
    "            kind=\"box\", \n",
    "            height = 9,\n",
    "            aspect = 1.25,\n",
    "            showfliers = False, \n",
    "            data=bc_df)\n",
    "\n",
    "ax._legend.set_title('Budget Class')\n",
    "\n",
    "plt.title('Profitability by Budget Class')\n",
    "plt.xlabel('Genre');"
   ]
  },
  {
   "cell_type": "markdown",
   "metadata": {},
   "source": [
    "### Conclusion\n",
    "In all cases the ideal budget is in the \\$6M - \\$14.2M range.  Over \\$14.2M results in signifigant decrease in ROI."
   ]
  },
  {
   "cell_type": "markdown",
   "metadata": {},
   "source": [
    "## Q3 Who are the most profitable people\n",
    "We want to filter people by\n",
    "* Budgets of films they have worked on\n",
    "* People who have lost money on a film\n",
    "* People who have made at least a certain number of films in our target genres (Horror and Mystery)\n",
    "\n",
    "We want to show the range of an individual's ROIs on films so we don't want to take an average.  Instead we need to keep all the rows and deal with grouping durring visualization."
   ]
  },
  {
   "cell_type": "markdown",
   "metadata": {},
   "source": [
    "### Create features\n",
    "\n",
    "We will create the features we need to do our filtering."
   ]
  },
  {
   "cell_type": "code",
   "execution_count": null,
   "metadata": {},
   "outputs": [],
   "source": [
    "# Create a min_budget feature for the lowest budget film each person has worked on.\n",
    "df['min_budget'] = df.groupby('nconst')['production_budget'].transform('min')\n",
    "\n",
    "df.head()"
   ]
  },
  {
   "cell_type": "code",
   "execution_count": null,
   "metadata": {},
   "outputs": [],
   "source": [
    "# Create mean_roi for the mean of all the film budgets a person has worked on.\n",
    "df['mean_roi'] = df.groupby('nconst')['ROI'].transform('mean').round(2)\n",
    "df.head()"
   ]
  },
  {
   "cell_type": "code",
   "execution_count": null,
   "metadata": {},
   "outputs": [],
   "source": [
    "# Create a min_roi feature for the lowest ROI of all the films a person has worked on\n",
    "df['min_roi'] = df.groupby('nconst')['ROI'].transform('min').round(2)\n",
    "df.head()"
   ]
  },
  {
   "cell_type": "markdown",
   "metadata": {},
   "source": [
    "We want a mean ROI for each individual limited to thier films in the Horror and Mystery Categories.  To do this we will first limit our data to films in Horror and Mystery, remove any duplicate movies (movies that appear in both categories).  Then we will use transform because it applys an aggregation function but along the original axis.  And we will fill any na with 0 so it doesn't cause problems later."
   ]
  },
  {
   "cell_type": "code",
   "execution_count": null,
   "metadata": {},
   "outputs": [],
   "source": [
    "# create a feature for the mean ROI of horror and mystery films a person has worked on \n",
    "mean_hm_roi = df[df['genres'].isin(['Horror', 'Mystery'])]\n",
    "mean_hm_roi = mean_hm_roi[~mean_hm_roi.duplicated(subset = ['nconst', 'tconst'])]\n",
    "df['mean_hm_roi'] = mean_hm_roi.groupby('nconst')['ROI'].transform('mean').round(2)\n",
    "df['mean_hm_roi'] = df['mean_hm_roi'].fillna(0)\n",
    "\n",
    "df.head()"
   ]
  },
  {
   "cell_type": "code",
   "execution_count": null,
   "metadata": {},
   "outputs": [],
   "source": [
    "# create a feature for the mean roi for each person by the role the played in the movie\n",
    "df['mean_cat_roi'] = df.groupby(['nconst', 'category'])['ROI'].transform('mean').round(2)\n",
    "df.head()"
   ]
  },
  {
   "cell_type": "markdown",
   "metadata": {},
   "source": [
    "We want to create a feature for the number of horror or mystery films a person has been so we can later exclude people who have made fewer than a certain number of films in these categories.  To do this we first limit our data to those categories, then group by person, and count the number of unique film ids *tconst* in each group.\n",
    "\n",
    "Because the new list does not have the same index we them use map to lookup the values for our num_hm_films column."
   ]
  },
  {
   "cell_type": "code",
   "execution_count": null,
   "metadata": {},
   "outputs": [],
   "source": [
    "# create a feature for the number of films a person has been in by genre\n",
    "\n",
    "num_hm_films = df[df['genres'].isin(['Horror', 'Mystery'])]\n",
    "num_hm_films = num_hm_films.groupby('nconst')['tconst'].nunique()\n",
    "df['num_hm_films'] = df['nconst'].map(num_hm_films).fillna(0).astype('int')\n",
    "df.head()"
   ]
  },
  {
   "cell_type": "markdown",
   "metadata": {},
   "source": [
    "### Filter our Working data\n",
    "\n",
    "We now use the features we have created to narrow down our results to only the people that meat our criteria.  We are looking for people who have worked on films with a sub \\$14.2M budget, and have made more than one horror or mystery  horror or mystery film."
   ]
  },
  {
   "cell_type": "code",
   "execution_count": null,
   "metadata": {},
   "outputs": [],
   "source": [
    "\n",
    "#create plot_df and print the size so we can track how many records each operation removes.\n",
    "dff = df\n",
    "print(dff.shape)\n",
    "\n",
    "# remove people who have never worked on a film with a budget under 14.2M\n",
    "dff = dff.loc[dff['min_budget'] < 14200000]\n",
    "print(dff.shape)\n",
    "\n",
    "# remove people who have lost money on a film\n",
    "dff = dff.loc[dff['min_roi'] > 0]\n",
    "print(dff.shape)\n",
    "\n",
    "# remove people who have only been in one Horror or Mystery Film\n",
    "dff = dff.loc[dff['num_hm_films'] > 1]\n",
    "print(dff.shape)\n"
   ]
  },
  {
   "cell_type": "code",
   "execution_count": null,
   "metadata": {},
   "outputs": [],
   "source": [
    "dff.head()"
   ]
  },
  {
   "cell_type": "markdown",
   "metadata": {},
   "source": [
    "### Visualise what was filtered"
   ]
  },
  {
   "cell_type": "code",
   "execution_count": null,
   "metadata": {},
   "outputs": [],
   "source": [
    "plt.figure(figsize=(12,9))\n",
    "\n",
    "# scatterplot for original data\n",
    "ax = sns.scatterplot(data = df[~df.duplicated(subset = ['nconst'])], #[df.genres.isin(['Horror', 'Mystery'])],\n",
    "                x = 'min_budget',\n",
    "                y = 'min_roi',\n",
    "                # height = 9,\n",
    "                # hue = 'genres', \n",
    "                size = 'num_hm_films',\n",
    "                color = 'gray',\n",
    "                alpha = .01,\n",
    "                legend='full')\n",
    "\n",
    "#legend0 = ax.get_legend()\n",
    "\n",
    "#scatterplot for data that was retained\n",
    "sns.scatterplot(data = dff[dff.genres.isin(genres2)],\n",
    "                x = 'min_budget',\n",
    "                y = 'min_roi',\n",
    "                #height = 9,\n",
    "                hue = 'genres', \n",
    "                size = 'num_hm_films',\n",
    "                alpha = 1,\n",
    "                palette = colors[:len(genres2)],\n",
    "                legend='brief',\n",
    "                ax = ax)\n",
    "\n",
    "sns.despine()\n",
    "\n",
    "#Draw box to show removed data\n",
    "y1 = np.array([0 ,0 , 6000, 6000])\n",
    "y2 = np.array([-101, -101, -101, -101])\n",
    "x = np.array([0, 14200000, 14200000, 20000000])\n",
    "ax.fill_between(x, y1, y2, where=(y1 > y2), color='red', alpha=0.07, hatch='//')\n",
    "\n",
    "# constrain image\n",
    "ax.set_xlim(0, 17500000)\n",
    "ax.set_ylim(-101, 1250)\n",
    "\n",
    "# create a reasonable legend\n",
    "plt.legend(bbox_to_anchor=(.95, 1), loc=2, borderaxespad=0.)\n",
    "\n",
    "plt.title('Selected Individuals')\n",
    "plt.ylabel(\"Person's lowest ROI\")\n",
    "ax.yaxis.set_major_formatter(mtick.PercentFormatter())\n",
    "\n",
    "plt.xlabel(\"Person's lowest film budget\")\n",
    "\n",
    "ticks = ax.get_xticks()\n",
    "labels = [str(int(x)) + 'M' for x in ticks/1000000]\n",
    "plt.xticks(ticks = ticks, labels = labels)\n",
    "\n",
    "\n",
    "# Create Genre legend\n",
    "artists = []\n",
    "labels = []\n",
    "for child in ax.get_children():\n",
    "    if child._label in genres:\n",
    "        artists.append(child)\n",
    "        labels.append(child._label)\n",
    "        \n",
    "genre_legend = ax.legend(artists, \n",
    "                         labels, \n",
    "                         bbox_to_anchor=(.913, .85),\n",
    "                         loc=2, \n",
    "                         borderaxespad=0, \n",
    "                         title='Selected Individuals\\nby Genre')\n",
    "      \n",
    "        \n",
    "axc = ax.get_children()\n",
    "\n",
    "\n",
    "# Create Genre legend\n",
    "label_filter = ['1','15']\n",
    "artists = []\n",
    "labels = []\n",
    "is_collection0 = False\n",
    "for child in ax.get_children():\n",
    "    if child._label == '_collection0':\n",
    "        is_collection0 = True\n",
    "    elif child._label.startswith('_'):\n",
    "        is_collection0 = False\n",
    "    elif is_collection0:\n",
    "        artists.append(child)\n",
    "        labels.append(child._label)\n",
    "\n",
    "artists = [artists[0], artists[-1]]\n",
    "labels = [labels[0], labels[-1]]\n",
    "\n",
    "size_legend = ax.legend(artists, \n",
    "                        labels, \n",
    "                        bbox_to_anchor=(.96, .55),\n",
    "                        loc=2, \n",
    "                        borderaxespad=0, \n",
    "                        title='Num Films\\nHorror/Mystery')\n",
    "\n",
    "# add the legends to the plot\n",
    "plt.gca().add_artist(genre_legend)\n",
    "plt.gca().add_artist(size_legend)\n",
    "\n"
   ]
  },
  {
   "cell_type": "code",
   "execution_count": null,
   "metadata": {},
   "outputs": [],
   "source": [
    "dff.head()"
   ]
  },
  {
   "cell_type": "markdown",
   "metadata": {},
   "source": [
    "### Explore the data"
   ]
  },
  {
   "cell_type": "markdown",
   "metadata": {},
   "source": [
    "Start looking at who the most profitable people are in Horror and Mystery Movies"
   ]
  },
  {
   "cell_type": "code",
   "execution_count": null,
   "metadata": {},
   "outputs": [],
   "source": [
    "#plot the 20 most profitable people\n",
    "plot_df = dff.sort_values('mean_roi', ascending=False)[:20]\n",
    "plt.figure (figsize = (12, 6))\n",
    "sns.barplot(data = plot_df,\n",
    "            x = 'person_name',\n",
    "            y = 'mean_roi',\n",
    "            palette='Blues_r')\n",
    "plt.xticks(rotation = 45, ha = 'right');\n",
    "\n",
    "plt.title('Highest ROI by person')"
   ]
  },
  {
   "cell_type": "markdown",
   "metadata": {},
   "source": [
    "Fabulous, except what did these highly profitable people do?  Lets add their jobs below their names."
   ]
  },
  {
   "cell_type": "code",
   "execution_count": null,
   "metadata": {},
   "outputs": [],
   "source": [
    "#create a more descriptive label\n",
    "grouped = dff.groupby(['nconst'])\n",
    "grouped = grouped.agg(categories = ('category', lambda x: '('+', '.join(set(x))+')'))\n",
    "grouped = grouped['categories']\n",
    "dff['categories'] = dff['nconst'].map(grouped)\n",
    "dff['label_name'] = dff.apply(lambda x: x['person_name'] + '\\n' + x['categories'], axis = 1)\n",
    "dff['label_name'].head()"
   ]
  },
  {
   "cell_type": "code",
   "execution_count": null,
   "metadata": {},
   "outputs": [],
   "source": [
    "#plot the 20 most profitable people\n",
    "plot_df = dff.sort_values('mean_roi', ascending=False)[:30]\n",
    "\n",
    "#plot the figure\n",
    "plt.figure (figsize = (20, 6))\n",
    "sns.barplot(data = plot_df,\n",
    "            x = 'label_name',\n",
    "            y = 'mean_roi',\n",
    "            palette='Blues_r')\n",
    "\n",
    "locs, labels = plt.xticks(rotation = 45, ha = 'right')\n",
    "#labels = [x.get_text() for x in labels]\n",
    "\n",
    "plt.title('Highest ROI by person')\n",
    "plt.gca().xaxis.label.set_visible(False)\n",
    "plt.ylabel('mean ROI')"
   ]
  },
  {
   "cell_type": "markdown",
   "metadata": {},
   "source": [
    "We need to limit our results to certain roles in the movie industry because we don't have time to present them all.  Let's find out which categories have the highest number people in them and work with those."
   ]
  },
  {
   "cell_type": "code",
   "execution_count": null,
   "metadata": {},
   "outputs": [],
   "source": [
    "people_counts = dff.reset_index()['category'].value_counts()\n",
    "people_counts"
   ]
  },
  {
   "cell_type": "code",
   "execution_count": null,
   "metadata": {
    "scrolled": false
   },
   "outputs": [],
   "source": [
    "#person_ROI.reset_index(inplace=True)\n",
    "\n",
    "#limit to the top 5 roles by number\n",
    "plot_df = dff[dff['category'].isin(people_counts.index[:5])]\n",
    "\n",
    "#limit to horror and mystery\n",
    "plot_df = plot_df[plot_df['genres'].isin(genres2)]\n",
    "             \n",
    "             \n",
    "g = sns.catplot(x=\"genres\",\n",
    "                y=\"mean_roi\",\n",
    "                hue=\"category\",\n",
    "                data=plot_df,\n",
    "                kind=\"violin\",\n",
    "                height = 8,\n",
    "                aspect = 2)\n",
    "\n",
    "plt.title('mean ROI by role')\n",
    "plt.ylabel('mean ROI')"
   ]
  },
  {
   "cell_type": "markdown",
   "metadata": {},
   "source": [
    "That is uniformative.  Perhaps because every movie needs all of these people so their distributions are the similar.  We will look at the roles (categories) individually."
   ]
  },
  {
   "cell_type": "markdown",
   "metadata": {},
   "source": [
    "### Create visualizations for various movie industry roles\n",
    "\n",
    "Start by createing a a plotting function that can be passed different roles (category), and can take care of limiting and sorting the data.\n",
    "\n",
    "One chalange is limiting to a specific. number of individuals because each individual is listed multiple times int he data.  To take cate of this we create an nconsts series with the sorted individuals and we filter our dataframe comparing to a slice of nconsts"
   ]
  },
  {
   "cell_type": "code",
   "execution_count": null,
   "metadata": {},
   "outputs": [],
   "source": [
    "# A reusable function for making several similar plots\n",
    "def plot_people_roi_by_cat(df, category, palette = colors, num = 10):\n",
    "    \n",
    "    # In order to limit the results to the number specified we have to\n",
    "    # limit the results in df. Otherwise seaborn limits by movies rather\n",
    "    # that people.\n",
    "    \n",
    "    # sort by mean horror/mystery movie roi\n",
    "    df = df.sort_values(by = 'mean_hm_roi', ascending = False)\n",
    "\n",
    "    # limit to Horror and Mystery\n",
    "    df = df[df['genres'].isin(genres2)]\n",
    "    \n",
    "    # limit to the passed movie role\n",
    "    df = df[df['category'] == category]\n",
    "    \n",
    "    #create a list of individuals so we can limit to a number of individuals\n",
    "    nconsts = df['nconst'].unique()\n",
    "    \n",
    "    #limit to number of people\n",
    "    df = df[df['nconst'].isin(nconsts[:num])]\n",
    "    \n",
    "    # plot the figure\n",
    "    plt.figure (figsize = (15, 9))\n",
    "    ax = sns.barplot(data = df,\n",
    "                x = 'person_name',\n",
    "                y = 'ROI',\n",
    "                capsize = .2,\n",
    "                hue = 'genres',\n",
    "                # hue_order=['Horror', 'Mystery'],\n",
    "                palette=colors,\n",
    "                #order=order\n",
    "                alpha = .7\n",
    "                )\n",
    "    sns.despine()\n",
    "    plt.xticks(rotation = 45, ha = 'right');\n",
    "    ax.xaxis.label.set_visible(False)\n",
    "    ax.yaxis.set_major_formatter(mtick.PercentFormatter())\n",
    "    plt.title(category.title() + ' Average ROI by Genre')\n",
    "    \n"
   ]
  },
  {
   "cell_type": "code",
   "execution_count": null,
   "metadata": {},
   "outputs": [],
   "source": [
    "plot_people_roi_by_cat(dff, 'producer', num = 8)"
   ]
  },
  {
   "cell_type": "code",
   "execution_count": null,
   "metadata": {},
   "outputs": [],
   "source": [
    "plot_people_roi_by_cat(dff, 'actor')\n"
   ]
  },
  {
   "cell_type": "code",
   "execution_count": null,
   "metadata": {},
   "outputs": [],
   "source": [
    "plot_people_roi_by_cat(dff, 'director')\n"
   ]
  },
  {
   "cell_type": "code",
   "execution_count": null,
   "metadata": {
    "scrolled": true
   },
   "outputs": [],
   "source": [
    "plot_people_roi_by_cat(dff, 'writer', num = 5)\n"
   ]
  },
  {
   "cell_type": "markdown",
   "metadata": {},
   "source": [
    "# Evaluation\n",
    "\n",
    "The data here clearly suggests that Horror and Mystery films are moderate budget high ROI genres and would be a good choice for a first movie.  Because of the limited data its not clear that these would be the **best** choice.  I had to remove genres like Animation because I didn't data have enough films that met our criteria for inclusion in the analysis.  Also, if Microsoft plans to spend more than /$14.2M other categories would be a better fit. \n",
    "\n",
    "It is important to note that in all genres there were films that lost money, and the ROI varied greatly by film.  While the choices laid out here will increase the likelihood of success, it does not indicate that similar results would be expected from only the above recommendations.   There are many other factors to explore, and quite a bit of creativity to inspire in order to get the best results.  "
   ]
  },
  {
   "cell_type": "markdown",
   "metadata": {},
   "source": [
    "# Conclusions\n",
    "\n",
    "Based on the data availabe my recomendation is for Microsfot to spend \\$6M - \\$14.2 on a Horror/Mystery movie with \n",
    "one of the following producers: \n",
    "* James Wan\n",
    "* Sébastien K. Lemercier\n",
    "* Peter Safran\n",
    "* Brad Fuller\n",
    "* Marty Bowen\n",
    "* Michael Bay\n",
    "* Andrew Form\n",
    "* Roxanne Avent\n",
    "\n",
    "\n",
    "## What could be improved\n",
    "Several genres had to be dropped from the analysis because too few films met our criteria.  Acquiring more data and rerunning the above analysis would be beneficial and increase confidence in the results.\n",
    "\n",
    "## The next steps\n",
    "* It is assumed here that producers have the highest impact on a movies success because they hire the director and have final say on casting, but further exploration should be done to verify this.\n",
    "* Look at pairings of people to see if there are teams that are more profitable.\n",
    "* Investigate the budget distributions for genres like Sci-Fi and Animation to see if simmilar conclusions can be made about them on a different scale.\n",
    "* Look at the percentage of profitable films by genre\n",
    "* Explore effects of runtime on profitability by genre\n",
    "* Explore whether production studio has an impact on ROI\n",
    "* Explore whether the Rating affects the ROI, and if so what can be done to influence the rating."
   ]
  },
  {
   "cell_type": "code",
   "execution_count": null,
   "metadata": {},
   "outputs": [],
   "source": []
  }
 ],
 "metadata": {
  "kernelspec": {
   "display_name": "Python [conda env:learn-env]",
   "language": "python",
   "name": "conda-env-learn-env-py"
  },
  "language_info": {
   "codemirror_mode": {
    "name": "ipython",
    "version": 3
   },
   "file_extension": ".py",
   "mimetype": "text/x-python",
   "name": "python",
   "nbconvert_exporter": "python",
   "pygments_lexer": "ipython3",
   "version": "3.8.5"
  },
  "toc": {
   "base_numbering": 1,
   "nav_menu": {},
   "number_sections": true,
   "sideBar": true,
   "skip_h1_title": false,
   "title_cell": "Table of Contents",
   "title_sidebar": "Contents",
   "toc_cell": true,
   "toc_position": {
    "height": "calc(100% - 180px)",
    "left": "10px",
    "top": "150px",
    "width": "384px"
   },
   "toc_section_display": true,
   "toc_window_display": true
  },
  "varInspector": {
   "cols": {
    "lenName": 16,
    "lenType": 16,
    "lenVar": 40
   },
   "kernels_config": {
    "python": {
     "delete_cmd_postfix": "",
     "delete_cmd_prefix": "del ",
     "library": "var_list.py",
     "varRefreshCmd": "print(var_dic_list())"
    },
    "r": {
     "delete_cmd_postfix": ") ",
     "delete_cmd_prefix": "rm(",
     "library": "var_list.r",
     "varRefreshCmd": "cat(var_dic_list()) "
    }
   },
   "types_to_exclude": [
    "module",
    "function",
    "builtin_function_or_method",
    "instance",
    "_Feature"
   ],
   "window_display": false
  }
 },
 "nbformat": 4,
 "nbformat_minor": 4
}
